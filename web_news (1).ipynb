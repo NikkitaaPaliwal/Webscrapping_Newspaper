{
  "nbformat": 4,
  "nbformat_minor": 0,
  "metadata": {
    "colab": {
      "name": "web_news.ipynb",
      "provenance": []
    },
    "kernelspec": {
      "name": "python3",
      "display_name": "Python 3"
    }
  },
  "cells": [
    {
      "cell_type": "code",
      "metadata": {
        "id": "3QRekSpcDdw5"
      },
      "source": [
        "#installing newspaper\n",
        "!pip install newspaper3k "
      ],
      "execution_count": null,
      "outputs": []
    },
    {
      "cell_type": "code",
      "metadata": {
        "colab": {
          "base_uri": "https://localhost:8080/"
        },
        "id": "I53LvqSiDhnF",
        "outputId": "c458e34a-d1a6-42fa-9107-cc813f760cf2"
      },
      "source": [
        "#Importing article \n",
        "from newspaper import Article"
      ],
      "execution_count": 5,
      "outputs": [
        {
          "output_type": "stream",
          "text": [
            "Enter the URL: https://www.javatpoint.com/python-features\n"
          ],
          "name": "stdout"
        },
        {
          "output_type": "execute_result",
          "data": {
            "text/plain": [
              "<newspaper.article.Article at 0x7f68cda02f90>"
            ]
          },
          "metadata": {
            "tags": []
          },
          "execution_count": 5
        }
      ]
    },
    {
      "cell_type": "code",
      "metadata": {
        "id": "8oZP_bv0FfA5"
      },
      "source": [
        "#input url for which you wanna scrap data\n",
        "url = input(\"Enter the URL: \")\n",
        "article = Article(url)\n",
        "article"
      ],
      "execution_count": null,
      "outputs": []
    },
    {
      "cell_type": "code",
      "metadata": {
        "colab": {
          "base_uri": "https://localhost:8080/",
          "height": 137
        },
        "id": "mFy6UJoED4Un",
        "outputId": "e0689ff9-2dd4-46c2-d1b8-1ade507fd543"
      },
      "source": [
        "article.download()\n",
        "article.html"
      ],
      "execution_count": 6,
      "outputs": [
        {
          "output_type": "execute_result",
          "data": {
            "application/vnd.google.colaboratory.intrinsic+json": {
              "type": "string"
            },
            "text/plain": [
              "' <!DOCTYPE html><html lang=\"en\"><head><meta http-equiv=\"Content-Type\" content=\"text/html; charset=utf-8\"><title>Python Features - javatpoint</title><link rel=\"SHORTCUT ICON\" href=\"https://static.javatpoint.com/images/favicon2.png\"/>\\n<link rel=\"stylesheet\" type=\"text/css\" href=\"https://static.javatpoint.com/link.css\" async/><link rel=\"dns-prefetch\" href=\"https://clients1.google.com\"><link rel=\"dns-prefetch\" href=\"https://static.javatpoint.com\"><link rel=\"dns-prefetch\" href=\"https://googleads.g.doubleclick.net\"><link rel=\"dns-prefetch\" href=\"https://www.google.com\"><link rel=\"dns-prefetch\" href=\"https://feedify.net\"><meta name=\"theme-color\" content=\"#4CAF50\"/><meta property=\"og:title\" content=\"Python Features - javatpoint\" /><meta property=\"og:description\" content=\"python features - A simple and easy to learn tutorial on various python topics such as loops, strings, lists, dictionary, tuples, date, time, files, functions, modules, methods and exceptions.\" />\\n<meta name=\"keywords\" content=\"python, tutorial, features, examples, programs, language, loops, strings, lists, dictionary, tuples, date, time, files, functions, modules, methods, exceptions\"/><meta name=\"description\" content=\"python features - A simple and easy to learn tutorial on various python topics such as loops, strings, lists, dictionary, tuples, date, time, files, functions, modules, methods and exceptions.\"/><meta name=\"viewport\" content=\"width=device-width, initial-scale=1.0\"><meta name=\"apple-mobile-web-app-capable\" content=\"yes\"><meta name=\"apple-mobile-web-app-status-bar-style\" content=\"black\"><link rel=\"canonical\" href=\"https://www.javatpoint.com/python-features\" />\\n<meta property=\"og:locale\" content=\"en_US\" /><meta property=\"og:type\" content=\"article\" /><meta name=\"twitter:title\" property=\"og:title\" content=\"Python Features - javatpoint\" /><meta name=\"twitter:description\" property=\"og:description\" content=\"python features - A simple and easy to learn tutorial on various python topics such as loops, strings, lists, dictionary, tuples, date, time, files, functions, modules, methods and exceptions.\" /><meta property=\"og:url\" content=\"https://www.javatpoint.com/python-features\" /><meta property=\"og:site_name\" content=\"www.javatpoint.com\" /><meta name=\"twitter:card\" content=\"summary\"/><meta name=\"twitter:site\" content=\"@pagejavatpoint\"/><meta name=\"twitter:domain\" content=\"www.javatpoint.com\"/><meta name=\"twitter:creator\" content=\"@pagejavatpoint\"/>\\n \\n<link href=\"https://www.javatpoint.com/manifest.json\" rel=\"manifest\">\\n<script data-cfasync=\"false\" type=\"text/javascript\">(function(w, d) { var s = d.createElement(\\'script\\'); s.src = \\'//delivery.adrecover.com/37784/adRecover.js?ts=1543562646174\\'; s.type = \\'text/javascript\\'; s.async = true; (d.getElementsByTagName(\\'head\\')[0] || d.getElementsByTagName(\\'body\\')[0]).appendChild(s); })(window, document);</script>\\n<script data-cfasync=\"false\" type=\"text/javascript\">(function(w, d) { var s = d.createElement(\\'script\\'); s.src = \\'//cdn.adpushup.com/37780/adpushup.js\\'; s.type = \\'text/javascript\\'; s.async = true; (d.getElementsByTagName(\\'head\\')[0] || d.getElementsByTagName(\\'body\\')[0]).appendChild(s); })(window, document);</script>\\n</head>  \\n<body onload=\"highlightlink()\"> \\n\\n<div id = \"v-javatpoint\"></div><script>(function(v,d,o,ai){ai=d.createElement(\\'script\\');ai.defer=true;ai.async=true;ai.src=v.location.protocol+o;d.head.appendChild(ai);})(window, document, \\'//a.vdo.ai/core/v-javatpoint/vdo.ai.js\\');</script> \\n\\n \\n<button onclick=\"topFunction()\" id=\"myBtn\" title=\"Go to top\">&#8679;</button>\\n<div id=\"page\" style=\"margin:-8px;background-color:#f5f5f4;\"><div id=\"container\"> <div class=\"header\"><table style=\"width:100%;margin-bottom:5px\"> <tr> <td> <div style=\"clear:both;float:left;width:230px;margin-top:15px;margin-left:20px\"> <a href=\"https://www.javatpoint.com\"><img src=\"https://static.javatpoint.com/images/logo/jtp_logo.png\" alt=\"Javatpoint Logo\" /></a> </div> <div style=\"float:left;width:60%;\"><script> (function() { var cx = \\'005383125436438536544:y1edweedxwi\\'; var gcse = document.createElement(\\'script\\'); gcse.type = \\'text/javascript\\'; gcse.async = true; gcse.src = \\'https://cse.google.com/cse.js?cx=\\' + cx; var s = document.getElementsByTagName(\\'script\\')[0]; s.parentNode.insertBefore(gcse, s); })();</script><gcse:search></gcse:search> </div> </td> </tr></table> </div>\\n<div class=\"headermobile\">\\n<div style=\"margin-top:10px;padding:0px;text-align:left;\">\\n<span style=\"float:left\"><input type=\"image\" src=\"https://www.javatpoint.com/images/menuhome64.png\" alt=\"Go To Top\" onclick=\"showmenu()\"/></span>\\n<span style=\"float:left\"><a href=\"https://www.javatpoint.com\"><img src=\"https://www.javatpoint.com/images/logo/jtp_logo.png\" alt=\"Javatpoint Logo\"></a></span>\\n\\n</div>\\n<div style=\"margin:0px;padding:0px;clear:both\">\\n<script>\\n  (function() {\\n    var cx = \\'005383125436438536544:y1edweedxwi\\';\\n    var gcse = document.createElement(\\'script\\');\\n    gcse.type = \\'text/javascript\\';\\n    gcse.async = true;\\n    gcse.src = \\'https://cse.google.com/cse.js?cx=\\' + cx;\\n    var s = document.getElementsByTagName(\\'script\\')[0];\\n    s.parentNode.insertBefore(gcse, s);\\n  })();\\n</script>\\n<gcse:search></gcse:search>\\n<!--<form class=\"navbar-search-m\" method=\"get\" action=\"https://www.google.com/search\" target=\"_blank\"> <input type=\"text\" name=\"q\" class=\"search-query span2-m\" placeholder=\"Search on javatpoint...\" title=\"Search on Javatpoint\"/><input type=\"hidden\" name=\"sitesearch\" value=\"www.javatpoint.com\"/></form>-->\\n\\n</div>\\n</div>\\n<div id=\"link\" style=\"clear:both\"> <div  class=\"ddsmoothmenu\">\\n<ul>\\n<li><a href=\"https://www.javatpoint.com\">Home</a></li>\\n<li><a href=\"python-tutorial\"   class=\"selected\">Python</a></li>\\n<li><a href=\"python-if-else\">If Else</a></li>\\n<li><a href=\"python-for-loop\">For Loop</a></li>\\n<li><a href=\"python-functions\">Function</a></li>\\n<li><a href=\"python-arrays\">Array</a></li>\\n<li><a href=\"python-strings\">String</a></li>\\n<li><a href=\"python-regex\">Regex</a></li>\\n<li><a href=\"python-lists\">List</a></li>\\n<li><a href=\"python-set\">Set</a></li>\\n<li><a href=\"python-tuples\">Tuple</a></li>\\n<li><a href=\"python-dictionary\">Dictionary</a></li>\\n<li><a href=\"python-lambda-functions\">Lambda Function</a></li>\\n<li><a href=\"python-modules\">Modules</a></li>\\n<li><a href=\"python-programs\">Programs</a></li>\\n<li><a href=\"python-tkinter\">Tkinter</a></li>\\n<li><a href=\"numpy-tutorial\">Numpy</a></li>\\n<li><a href=\"python-interview-questions\">Interview Questions</a></li>\\n\\n</ul>\\n<br style=\"clear: left\" />\\n</div></div>\\n<div class=\"mobilemenu\" style=\"clear:both\"> \\n<!-- Cm_300x250_Mob_14/9 -->\\n<ins class=\"adPushupAds\" data-adpControl=\"hqdgs\" data-ver=\"2\" data-siteId=\"37780\" data-ac=\"PHNjcmlwdCBhc3luYyBzcmM9Ii8vcGFnZWFkMi5nb29nbGVzeW5kaWNhdGlvbi5jb20vcGFnZWFkL2pzL2Fkc2J5Z29vZ2xlLmpzIj48L3NjcmlwdD4KPCEtLSBDbV8zMDB4MjUwX01vYl8xNC85IC0tPgo8aW5zIGNsYXNzPSJhZHNieWdvb2dsZSIKICAgICBzdHlsZT0iZGlzcGxheTppbmxpbmUtYmxvY2s7d2lkdGg6MzAwcHg7aGVpZ2h0OjI1MHB4IgogICAgIGRhdGEtYWQtY2xpZW50PSJjYS1wdWItNDY5OTg1ODU0OTAyMzM4MiIKICAgICBkYXRhLWFkLXNsb3Q9IjcwMTQyNzI1MTkiPjwvaW5zPgo8c2NyaXB0PgooYWRzYnlnb29nbGUgPSB3aW5kb3cuYWRzYnlnb29nbGUgfHwgW10pLnB1c2goe30pOwo8L3NjcmlwdD4=\"></ins><script data-cfasync=\"false\" type=\"text/javascript\">(function (w, d) { for (var i = 0, j = d.getElementsByTagName(\"ins\"), k = j[i]; i < j.length; k = j[++i]){ if(k.className == \"adPushupAds\" && k.getAttribute(\"data-push\") != \"1\") { ((w.adpushup = w.adpushup || {}).control = (w.adpushup.control || [])).push(k); k.setAttribute(\"data-push\", \"1\");} } })(window, document);</script>\\n</div>\\n\\n<div id=\"menu\">\\n<div class=\"leftmenu2\"  >\\n<h2 class=\"spanh2\"><span class=\"spanh2\">Python Tutorial</span></h2>\\n</div>\\n<div class=\"leftmenu\">\\n<a href=\"python-tutorial\">Python Tutorial</a>\\n<a href=\"python-features\" >Python Features</a>\\n<a href=\"python-history\" >Python History</a>\\n<a href=\"python-applications\" >Python Applications</a>\\n<a href=\"how-to-install-python\" >Python Install</a>\\n<a href=\"python-example\" >Python Example</a>\\n<a href=\"python-variables\" >Python Variables</a>\\n<a href=\"python-data-types\" >Python Data Types</a>\\n<a href=\"python-keywords\" >Python Keywords</a>\\n<a href=\"python-literals\" >Python Literals</a>\\n<a href=\"python-operators\" >Python Operators</a>\\n<a href=\"python-comments\" >Python Comments</a>\\n<a href=\"python-if-else\" >Python If else</a>\\n<a href=\"python-loops\" >Python Loops</a>\\n<a href=\"python-for-loop\" >Python For Loop</a>\\n<a href=\"python-while-loop\" >Python While Loop</a>\\n<a href=\"python-break\" >Python Break</a>\\n<a href=\"python-continue\" >Python Continue</a>\\n<a href=\"python-pass\" >Python Pass</a>\\n<a href=\"python-strings\"><span>Python Strings</span></a>\\n<a href=\"python-lists\"><span>Python Lists</span></a>\\n<a href=\"python-tuples\"><span>Python Tuples</span></a>\\n<a href=\"python-list-vs-tuple\">Python List Vs Tuple</a>\\n<a href=\"python-set\"><span>Python Sets</span></a>\\n<a href=\"python-dictionary\"><span>Python Dictionary</span></a>\\n<a href=\"python-functions\"><span>Python Functions</span></a> \\n<a href=\"python-built-in-functions\"><span>Python Built-in Functions</span></a>\\n<a href=\"python-lambda-functions\"><span>Python Lambda Functions</span></a>\\n<a href=\"python-files-io\"><span>Python Files I/O</span></a>\\n<a href=\"python-modules\"><span>Python Modules</span></a>\\n<a href=\"python-exception-handling\"><span>Python Exceptions</span></a>\\n<a href=\"python-date\"><span>Python Date</span></a>\\n<a href=\"python-regex\">Python Regex</a>\\n<a href=\"python-sending-email\">Python Sending Email</a>\\n\\n<a href=\"python-read-csv-file\">Read CSV File</a>\\n<a href=\"python-write-csv-file\">Write CSV File</a>\\n<a href=\"python-read-excel-file\">Read Excel File</a>\\n<a href=\"python-write-excel-file\">Write Excel File</a>\\n<a href=\"python-assert-keyword\">Python Assert</a>\\n\\n<a href=\"python-list-comprehension\">Python List Comprehension</a>\\n<a href=\"python-collection-module\">Python Collection Module</a>\\n<a href=\"python-math-module\">Python Math Module</a>\\n<a href=\"python-os-module\">Python OS Module</a>\\n<a href=\"python-random-module\">Python Random Module</a>\\n<a href=\"python-statistics-module\">Python Statistics Module</a>\\n<a href=\"python-sys-module\">Python Sys Module</a>\\n\\n<a href=\"python-ides\">Python IDEs</a>\\n\\n<a href=\"python-arrays\">Python Arrays</a>\\n<a href=\"python-command-line-arguments\">Command Line Arguments</a>\\n<a href=\"python-magic-method\">Python Magic Method</a>\\n<a href=\"python-stack-and-queue\">Python Stack &amp; Queue</a>\\n\\n<a href=\"pyspark-mllib\">PySpark MLlib</a>\\n<a href=\"python-decorator\">Python Decorator</a>\\n<a href=\"python-generators\">Python Generators</a>\\n<a href=\"web-scraping-using-python\">Web Scraping Using Python</a>\\n<a href=\"python-json\">Python JSON</a>\\n<a href=\"python-itertools\">Python Itertools</a>\\n<a href=\"python-multiprocessing\">Python Multiprocessing</a>\\n</div>\\n<div class=\"leftmenu2\"  >\\n<h2 class=\"spanh2\"><span class=\"spanh2\">Python OOPs</span></h2>\\n</div>\\n\\n<div class=\"leftmenu\"  >\\n<a href=\"python-oops-concepts\" >Python OOPs Concepts</a>\\n<a href=\"python-objects-classes\" >Python Object Class</a>\\n<a href=\"python-constructors\" >Python Constructors</a>\\n<a href=\"inheritance-in-python\" >Python Inheritance</a>\\n<a href=\"abstraction-in-python\">Abstraction in Python</a>\\n</div>\\n<div class=\"leftmenu2\">\\n<h2 class=\"spanh2\"><span class=\"spanh2\">Python MySQL</span></h2>\\n</div>\\n<div class=\"leftmenu\">\\n<a href=\"python-mysql-environment-setup\">Environment Setup</a>\\n<a href=\"python-mysql-database-connection\">Database Connection</a>\\n<a href=\"python-mysql-creating-new-database\">Creating New Database</a>\\n<a href=\"python-mysql-creating-tables\">Creating Tables</a>\\n<a href=\"python-mysql-insert-operation\">Insert Operation</a>\\n<a href=\"python-mysql-read-operation\">Read Operation</a>\\n<a href=\"python-mysql-update-operation\">Update Operation</a>\\n<a href=\"python-mysql-join-operation\">Join Operation</a>\\n<a href=\"python-mysql-performing-transactions\">Performing Transactions</a>\\n</div>\\n\\n<div class=\"leftmenu2\">\\n<h2 class=\"spanh2\"><span class=\"spanh2\">Python MongoDB</span></h2>\\n</div>\\n<div class=\"leftmenu\">\\n<a href=\"python-mongodb\">Python MongoDB</a>\\n</div>\\n<div class=\"leftmenu2\">\\n<h2 class=\"spanh2\"><span class=\"spanh2\">Python SQLite</span></h2>\\n</div>\\n<div class=\"leftmenu\">\\n<a href=\"python-sqlite\">Python SQLite</a>\\n</div>\\n<div class=\"leftmenu2\">\\n<h2 class=\"spanh2\"><span class=\"spanh2\">Python Questions</span></h2>\\n</div>\\n<div class=\"leftmenu\">\\n<a href=\"how-to-install-python-in-windows\">How to install Python in Windows</a>\\n<a href=\"how-to-reverse-a-string-in-python\">How to reverse a string in Python</a>\\n<a href=\"how-to-read-csv-file-in-python\">How to read CSV file in Python</a>\\n<a href=\"how-to-run-python-program\">How to run Python Program</a>\\n<a href=\"how-to-take-input-in-python\">How to take input in Python</a>\\n<a href=\"how-to-convert-list-to-string-in-python\">How to convert list to string in Python</a>\\n\\n<a href=\"how-to-append-element-in-the-list\">How to append element in the list</a>\\n<a href=\"how-to-compare-two-lists-in-python\">How to compare two lists in Python</a>\\n<a href=\"how-to-convert-int-to-string-in-python\">How to convert int to string in Python</a>\\n<a href=\"how-to-create-a-dictionary-in-python\">How to create a dictionary in Python</a>\\n<a href=\"how-to-create-a-virtual-environment-in-python\">How to create a virtual environment in Python</a>\\n<a href=\"how-to-declare-a-variable-in-python\">How to declare a variable in Python</a>\\n<a href=\"how-to-install-matplotlib-in-python\">How to install matplotlib in Python</a>\\n<a href=\"how-to-install-opencv-in-python\">How to install OpenCV in Python</a>\\n<a href=\"how-to-print-in-same-line-in-python\">How to print in same line in Python</a>\\n<a href=\"how-to-read-json-file-in-python\">How to read JSON file in Python</a>\\n<a href=\"how-to-read-a-text-file-in-python\">How to read a text file in Python</a>\\n<a href=\"how-to-use-for-loop-in-python\">How to use for loop in Python</a>\\n<a href=\"is-python-scripting-language\">Is Python scripting language</a>\\n\\n<a href=\"how-long-does-it-take-to-learn-python\">How long does it take to learn Python</a>\\n<a href=\"how-to-concatenate-two-strings-in-python\">How to concatenate two strings in Python</a>\\n<a href=\"how-to-connect-database-in-python\">How to connect Database in Python</a>\\n<a href=\"how-to-convert-list-to-dictionary-in-python\">How to convert list to dictionary in Python</a>\\n<a href=\"how-to-declare-a-global-variable-in-python\">How to declare a global variable in Python</a>\\n<a href=\"how-to-reverse-a-number-in-python\">How to reverse a number in Python</a>\\n<a href=\"what-is-an-object-in-python\">What is an object in Python</a>\\n<a href=\"which-is-the-fastest-implementation-of-python\">Which is the fastest implementation of Python</a>\\n\\n<a href=\"how-to-clear-python-shell\">How to clear Python shell</a>\\n<a href=\"how-to-create-a-dataframes-in-python\">How to create a DataFrames in Python</a>\\n<a href=\"how-to-develop-a-game-in-python\">How to develop a game in Python</a>\\n<a href=\"how-to-install-tkinter-in-python\">How to install Tkinter in Python</a>\\n<a href=\"how-to-plot-a-graph-in-python\">How to plot a graph in Python</a>\\n<a href=\"how-to-print-pattern-in-python\">How to print pattern in Python</a>\\n<a href=\"how-to-remove-an-element-from-a-list-in-python\">How to remove an element from a list in Python</a>\\n<a href=\"how-to-round-number-in-python\">How to Round number in Python</a>\\n<a href=\"how-to-sort-a-dictionary-in-python\">How to sort a dictionary in Python</a>\\n<a href=\"strong-number-in-python\">Strong Number in Python</a>\\n<a href=\"how-to-convert-text-to-speech-in-python\">How to Convert Text to Speech in Python </a>\\n<a href=\"bubble-sort-in-python\">Bubble Sort in Python</a>\\n<a href=\"logging-in-python\">Logging in Python</a>\\n<a href=\"insertion-sort-in-python\">Insertion Sort in Python</a>\\n<a href=\"binary-search-in-python\">Binary Search in Python</a>\\n<a href=\"linear-search-in-python\">Linear Search in Python</a>\\n<a href=\"python-vs-scala\">Python vs Scala</a>\\n<a href=\"queue-in-python\">Queue in Python</a>\\n<a href=\"stack-in-python\">Stack in Python</a>\\n\\n<a href=\"heap-sort-in-python\">Heap Sort in Python</a>\\n<a href=\"palindrome-program-in-python\">Palindrome program in python</a>\\n<a href=\"program-of-cumulative-sum-in-python\">Program of Cumulative sum in python</a>\\n<a href=\"merge-sort-in-python\">Merge Sort in Python</a>\\n<a href=\"python-matrix\">Python Matrix</a>\\n<a href=\"python-unit-testing\">Python Unit Testing</a>\\n<a href=\"python-forensics-and-virtualization\">Forensics &amp; Virtualization</a>\\n<a href=\"best-books-to-learn-python\">Best Books to Learn Python</a>\\n<a href=\"best-books-to-learn-django-for-beginners-and-advance-programmers\">Best Books to Learn Django</a>\\n<a href=\"gcd-of-two-number-in-python\">GCD of two number in python</a>\\n<a href=\"python-program-to-generate-a-random-string\">Python Program to generate a Random String</a>\\n<a href=\"how-to-one-hot-encode-sequence-data-in-python\">How to One Hot Encode Sequence Data in Python</a>\\n<a href=\"how-to-write-square-root-in-python\">How to write square root in Python</a>\\n<a href=\"pointer-in-python\">Pointer in Python</a>\\n<a href=\"python-2d-array\">Python 2D array</a>\\n<a href=\"python-memory-management\">Python Memory Management</a>\\n<a href=\"python-libraries-for-data-visualization\">Python Libraries for Data Visualization</a>\\n\\n<a href=\"how-to-call-a-function-in-python\">How to call a function in Python</a>\\n<a href=\"git-modules-in-python\">Git Modules in Python</a>\\n\\n<a href=\"top-python-frameworks-for-gaming\">Top Python Frameworks for Gaming</a>\\n<a href=\"python-audio-modules\">Python Audio Modules</a>\\n<a href=\"wikipedia-module-in-python\">Wikipedia Module in Python</a>\\n\\n<a href=\"python-random-randrange\">Python random randrange()</a>\\n<a href=\"permutation-and-combination-in-python\">Permutation and Combination in Python</a>\\n<a href=\"getopt-module-in-python\">Getopt module in Python</a>\\n<a href=\"merge-two-dictionaries-in-python\">Merge two Dictionaries in Python</a>\\n<a href=\"multithreading-in-python-3\">Multithreading in Python 3</a>\\n<a href=\"static-in-python\">Static in Python</a>\\n<a href=\"how-to-get-the-current-date-in-python\">How to get the current date in Python</a>\\n<a href=\"argparse-in-python\">argparse in Python</a>\\n<a href=\"python-tqdm-module\">Python tqdm Module</a>\\n<a href=\"caesar-cipher-in-python\">Caesar Cipher in Python</a>\\n<a href=\"tokenizer-in-python\">Tokenizer in Python</a>\\n\\n<a href=\"how-to-add-two-lists-in-python\">How to add two lists in Python</a>\\n<a href=\"shallow-copy-and-deep-copy-in-python\">Shallow Copy and Deep Copy in Python</a>\\n\\n<a href=\"atom-python\">Atom Python</a>\\n<a href=\"contains-in-python\">Contains in Python</a>\\n<a href=\"label-encoding-in-python\">Label Encoding in Python</a>\\n\\n<a href=\"django-vs-node-js\">Django vs. Node JS</a>\\n<a href=\"python-frameworks\">Python Frameworks</a>\\n<a href=\"how-to-create-a-vector-in-python-using-numpy\">How to create a vector in Python using NumPy</a>\\n<a href=\"pickle-module-of-python\">Pickle Module of Python</a>\\n<a href=\"how-to-convert-bytes-to-string-in-python\">How to convert Bytes to string in Python</a>\\n<a href=\"python-program-to-find-anagram\">Python Program to Find Anagram</a>\\n\\n<a href=\"how-to-convert-list-to-set\">How to convert List to Set</a>\\n<a href=\"python-vs-javascript\">Python vs JavaScript</a>\\n<a href=\"python-holidays-module\">Python Holidays Module</a>\\n<a href=\"fuzzywuzzy-python-library\">FuzzyWuzzy Python Library</a>\\n<a href=\"dask-python\">Dask Python</a>\\n<a href=\"dask-python-part-2\">Dask Python (Part 2)</a>\\n<a href=\"mode-in-python\">Mode in Python</a>\\n<a href=\"menu-driven-programs-in-python\">Menu-Driven Programs in Python</a>\\n<a href=\"python-array-vs-list\">Python Array vs. List</a>\\n<a href=\"what-is-duck-typing-in-python\">What is duck typing in Python</a>\\n<a href=\"pep-8-in-python\">PEP 8 in Python</a>\\n<a href=\"python-user-groups\">Python User Groups</a>\\n<a href=\"basic-commands-in-python\">Basic Commands in Python</a>\\n<a href=\"f-string-in-python\">F String in Python</a>\\n<a href=\"how-brython-works\">How Brython Works</a>\\n<a href=\"how-to-use-brython-in-the-browser\">How to use Brython in the Browser</a>\\n<a href=\"arima-model-in-python\">Arima Model in Python</a>\\n<a href=\"python-modulus-operator\">Python Modulus Operator</a>\\n<a href=\"matlab-vs-python\">MATLAB vs. Python</a>\\n<a href=\"method-resolution-order-in-python\">Method Resolution Order in Python</a>\\n<a href=\"monkey-patching-in-python\">Monkey Patching in Python</a>\\n<a href=\"python__call__method\">Python __call__ method</a>\\n<a href=\"python-heapq-module\">Python heapq module</a>\\n</div>\\n<div class=\"leftmenu2\">\\n<h2 class=\"spanh2\"><span class=\"spanh2\">Python Tkinter (GUI)</span></h2>\\n</div>\\n<div class=\"leftmenu\">\\n<a href=\"python-tkinter\">Python Tkinter</a>\\n<a href=\"python-tkinter-button\">Tkinter Button</a>\\n<a href=\"python-tkinter-canvas\">Tkinter Canvas</a>\\n<a href=\"python-tkinter-checkbutton\">Tkinter Checkbutton</a>\\n<a href=\"python-tkinter-entry\">Tkinter Entry</a>\\n<a href=\"python-tkinter-frame\">Tkinter Frame</a>\\n<a href=\"python-tkinter-label\">Tkinter Label</a>\\n\\n<a href=\"python-tkinter-listbox\">Tkinter Listbox</a>\\n<a href=\"python-tkinter-menubutton\">Tkinter Menubutton</a>\\n\\n<a href=\"python-tkinter-menu\">Tkinter Menu</a>\\n<a href=\"python-tkinter-message\">Tkinter Message</a>\\n<a href=\"python-tkinter-radiobutton\">Tkinter Radiobutton</a>\\n\\n<a href=\"python-tkinter-scale\">Tkinter Scale</a>\\n<a href=\"python-tkinter-scrollbar\">Tkinter Scrollbar</a>\\n<a href=\"python-tkinter-text\">Tkinter Text</a>\\n<a href=\"python-tkinter-toplevel\">Tkinter Toplevel</a>\\n<a href=\"python-tkinter-spinbox\">Tkinter Spinbox</a>\\n\\n<a href=\"python-tkinter-panedwindow\">Tkinter PanedWindow</a>\\n<a href=\"python-tkinter-labelframe\">Tkinter LabelFrame</a>\\n<a href=\"python-tkinter-messagebox\">Tkinter MessageBox</a>\\n\\n</div>\\n<div class=\"leftmenu2\">\\n<h2 class=\"spanh2\"><span class=\"spanh2\">Python Web Blocker</span></h2>\\n</div>\\n<div class=\"leftmenu\">\\n<a href=\"python-website-blocker\">Introduction</a>\\n<a href=\"python-website-blocker-building-python-script\">Building Python Script</a>\\n<a href=\"python-website-blocker-script-deployment-on-linux\">Script Deployment on Linux</a>\\n<a href=\"python-website-blocker-script-deployment-on-windows\">Script Deployment on Windows</a>\\n</div>\\n<div class=\"leftmenu2\">\\n<h2 class=\"spanh2\"><span class=\"spanh2\">Python MCQ</span></h2>\\n</div>\\n<div class=\"leftmenu\">\\n    <a href=\"python-mcq\">Python MCQ</a>\\n    <a href=\"python-mcq-part-2\">Python MCQ Part 2</a>\\n</div>\\n\\n<div class=\"leftmenu2\"  >\\n<h2 class=\"spanh2\"><span class=\"spanh2\">Related Tutorials</span></h2>\\n</div>\\n\\n<div class=\"leftmenu\"  >\\n<a href=\"numpy-tutorial\"><span>NumPy Tutorial</span></a>\\n<a href=\"django-tutorial\"><span>Django Tutorial</span></a>\\n<a href=\"flask-tutorial\"><span>Flask Tutorial</span></a>\\n\\n<a href=\"python-pandas\"><span>Pandas Tutorial</span></a>\\n<a href=\"pytorch\"><span>Pytorch Tutorial</span></a>\\n<a href=\"pygame\"><span>Pygame Tutorial</span></a>\\n<a href=\"matplotlib\"><span>Matplotlib Tutorial</span></a>\\n<a href=\"opencv\"><span>OpenCV Tutorial</span></a>\\n<a href=\"python-openpyxl\"><span>Openpyxl Tutorial</span></a>\\n<a href=\"python-cgi-programming\">Python CGI</a>\\n<a href=\"python-design-pattern\"><span>Python Design Pattern</span></a>\\n\\n\\n</div>\\n\\n<div class=\"leftmenu2\"  >\\n<h2 class=\"spanh2\"><span class=\"spanh2\">Python Programs</span></h2>\\n</div>\\n\\n<div class=\"leftmenu\"  >\\n<a href=\"python-programs\"><span>Python Programs</span></a>\\n</div>\\n<!--\\n<div class=\"leftmenu2\"  >\\n<a href=\"python-time\"><span>Python Time</span></a>\\n</div>\\n-->\\n<img src=\"https://www.javatpoint.com/wh.JPG\" alt=\"JavaTpoint\"/>\\n<br/>\\n<div id=\"leftad\" style=\"margin-left:20px\">\\n<!-- javatpointleft -->\\n<ins class=\"adPushupAds\" data-adpControl=\"g8drp\" data-ver=\"2\" data-siteId=\"37780\" data-ac=\"PHNjcmlwdCBhc3luYyBzcmM9Ii8vcGFnZWFkMi5nb29nbGVzeW5kaWNhdGlvbi5jb20vcGFnZWFkL2pzL2Fkc2J5Z29vZ2xlLmpzIj48L3NjcmlwdD4KPCEtLSBqYXZhdHBvaW50bGVmdCAtLT4KPGlucyBjbGFzcz0iYWRzYnlnb29nbGUiCiAgICAgc3R5bGU9ImRpc3BsYXk6aW5saW5lLWJsb2NrO3dpZHRoOjE2MHB4O2hlaWdodDo2MDBweCIKICAgICBkYXRhLWFkLWNsaWVudD0iY2EtcHViLTQ2OTk4NTg1NDkwMjMzODIiCiAgICAgZGF0YS1hZC1zbG90PSI0NDc2NDAxMjIyIj48L2lucz4KPHNjcmlwdD4KKGFkc2J5Z29vZ2xlID0gd2luZG93LmFkc2J5Z29vZ2xlIHx8IFtdKS5wdXNoKHt9KTsKPC9zY3JpcHQ+\"></ins><script data-cfasync=\"false\" type=\"text/javascript\">(function (w, d) { for (var i = 0, j = d.getElementsByTagName(\"ins\"), k = j[i]; i < j.length; k = j[++i]){ if(k.className == \"adPushupAds\" && k.getAttribute(\"data-push\") != \"1\") { ((w.adpushup = w.adpushup || {}).control = (w.adpushup.control || [])).push(k); k.setAttribute(\"data-push\", \"1\");} } })(window, document);</script>\\n\\n</div>\\n</div>\\n<div class=\"onlycontent\">\\n<div class=\"onlycontentad\">\\n<!-- CM_JTP_Leaderbaord -->\\n<ins class=\"adPushupAds\" data-adpControl=\"nuoc1\" data-ver=\"2\" data-siteId=\"37780\" data-ac=\"PHNjcmlwdCBhc3luYyBzcmM9Ii8vcGFnZWFkMi5nb29nbGVzeW5kaWNhdGlvbi5jb20vcGFnZWFkL2pzL2Fkc2J5Z29vZ2xlLmpzIj48L3NjcmlwdD4KPCEtLSBDTV9KVFBfTGVhZGVyYmFvcmQgLS0+CjxpbnMgY2xhc3M9ImFkc2J5Z29vZ2xlIgogICAgIHN0eWxlPSJkaXNwbGF5OmJsb2NrIgogICAgIGRhdGEtYWQtY2xpZW50PSJjYS1wdWItNDY5OTg1ODU0OTAyMzM4MiIKICAgICBkYXRhLWFkLXNsb3Q9IjkyMDE5MDE5MTUiCiAgICAgZGF0YS1hZC1mb3JtYXQ9ImF1dG8iCiAgICAgZGF0YS1mdWxsLXdpZHRoLXJlc3BvbnNpdmU9InRydWUiPjwvaW5zPgo8c2NyaXB0PgooYWRzYnlnb29nbGUgPSB3aW5kb3cuYWRzYnlnb29nbGUgfHwgW10pLnB1c2goe30pOwo8L3NjcmlwdD4=\"></ins><script data-cfasync=\"false\" type=\"text/javascript\">(function (w, d) { for (var i = 0, j = d.getElementsByTagName(\"ins\"), k = j[i]; i < j.length; k = j[++i]){ if(k.className == \"adPushupAds\" && k.getAttribute(\"data-push\") != \"1\") { ((w.adpushup = w.adpushup || {}).control = (w.adpushup.control || [])).push(k); k.setAttribute(\"data-push\", \"1\");} } })(window, document);</script>\\n</div>\\n<div class=\"onlycontentinner\">\\n<div id=\"city\">\\n<table>\\n<tr><td>\\n\\n<div id=\"bottomnextup\">\\n<a class=\"next\" href=\"python-history\">next &rarr;</a>\\n<a class=\"next\" href=\"python-tutorial\">&larr; prev</a>\\n</div>\\n\\n<h1 class=\"h1\">Python Features</h1>\\n<p>Python provides many useful features which make it popular and valuable from the other programming languages. It supports object-oriented programming, procedural programming approaches and provides dynamic memory allocation. We have listed below a few essential features.</p>\\n<h3 class=\"h3\">1) Easy to Learn and Use</h3> \\n<p>Python is easy to learn as compared to other programming languages. Its syntax is straightforward and much the same as the English language. There is no use of the semicolon or curly-bracket, the indentation defines the code block. It is the recommended programming language for beginners. </p>\\n<h3 class=\"h3\">2) Expressive Language</h3>\\n<p>Python can perform complex tasks using a few lines of code. A simple example, the hello world program you simply type <strong>print(\"Hello World\")</strong>. It will take only one line to execute, while Java or C takes multiple lines.</p>\\n<h3 class=\"h3\">3) Interpreted Language</h3>\\n<p>Python is an interpreted language; it means the Python program is executed one line at a time. The advantage of being interpreted language, it makes debugging easy and portable. </p>\\n<h3 class=\"h3\">4) Cross-platform Language</h3> \\n<p>Python can run equally on different platforms such as Windows, Linux, UNIX, and Macintosh, etc. So, we can say that Python is a portable language. It enables programmers to develop the software for several competing platforms by writing a program only once. </p>\\n<h3 class=\"h3\">5) Free and Open Source</h3>\\n<p>Python is freely available for everyone. It is freely available on its official website <a href=\"https://www.python.org/\" rel=\"nofollow\" target=\"blank\">www.python.org</a>. It has a large community across the world that is dedicatedly working towards make new python modules and functions. Anyone can contribute to the Python community. The open-source means, \"Anyone can download its source code without paying any penny.\"</p>\\n<h3 class=\"h3\">6) Object-Oriented Language</h3>\\n<p>Python supports object-oriented language and concepts of classes and objects come into existence. It supports inheritance, polymorphism, and encapsulation, etc. The object-oriented procedure helps to programmer to write reusable code and develop applications in less code. </p>\\n<h3 class=\"h3\">7) Extensible</h3> \\n<p>It implies that other languages such as C/C++ can be used to compile the code and thus it can be used further in our Python code. It converts the program into byte code, and any platform can use that byte code. </p>\\n<h3 class=\"h3\">8) Large Standard Library</h3> \\n<p>It provides a vast range of libraries for the various fields such as machine learning, web developer, and also for the scripting.  There are various machine learning libraries, such as Tensor flow, Pandas, Numpy, Keras, and Pytorch, etc.  Django, flask, pyramids are the popular framework for Python web development.</p>\\n<h3 class=\"h3\">9) GUI Programming Support</h3> \\n<p>Graphical User Interface is used for the developing Desktop application. PyQT5, Tkinter, Kivy are the libraries which are used for developing the web application.</p>\\n<h3 class=\"h3\">10) Integrated</h3>\\n<p>It can be easily integrated with languages like C, C++, and JAVA, etc. Python runs code line by line like C,C++ Java. It makes easy to debug the code.</p>\\n<h3 class=\"h3\">11. Embeddable</h3>\\n<p>The code of the other programming language can use in the Python source code. We can use Python source code in another programming language as well. It can embed other language into our code.</p>\\n<h3 class=\"h3\">12. Dynamic Memory Allocation</h3>\\n<p>In Python, we don\\'t need to specify the data-type of the variable. When we assign some value to the variable, it automatically allocates the memory to the variable at run time. Suppose we are assigned integer value 15 to <strong>x,</strong> then we don\\'t need to write <strong>int x = 15.</strong> Just write x = 15.</p>\\n\\n<hr/>\\n<div class=\"nexttopicdiv\">\\n<span class=\"nexttopictext\">Next Topic</span><span class=\"nexttopiclink\"><a href=\"python-history\">Python History</a></span>\\n</div>\\n\\n<!-- link -->\\n<br/><br/>\\n<div id=\"bottomnext\">\\n<a style=\"float:left\" class=\"next\" href=\"python-tutorial\">&larr; prev</a>\\n<a style=\"float:right\" class=\"next\" href=\"python-history\">next &rarr;</a>\\n</div>\\n\\n<br/><br/>\\n</td></tr>\\n</table>\\n</div>\\n \\n\\n               <div><img class=\"lazyload\" data-src=\"https://static.javatpoint.com/images/youtube-32.png\" style=\"vertical-align:middle;\" alt=\"Youtube\" />\\n               <span class=\"h3\" style=\"vertical-align:middle;font-size:22px\"> For Videos Join Our Youtube Channel: <a href=\"https://bit.ly/2FOeX6S\" target=\"_blank\"> Join Now</a></span>\\n               </div>\\n               <hr/> \\n\\n \\n\\n<h2 class=\"h2\">Help Others, Please Share</h2>\\n<a rel=\"nofollow\" title=\"Facebook\" target=\"_blank\" href=\"https://www.facebook.com/sharer.php?u=https://www.javatpoint.com/python-features\"><img src=\"https://www.javatpoint.com/images/facebook32.png\" alt=\"facebook\"/></a>\\n<a rel=\"nofollow\" title=\"Twitter\" target=\"_blank\" href=\"https://twitter.com/share?url=https://www.javatpoint.com/python-features\"><img src=\"https://www.javatpoint.com/images/twitter32.png\" alt=\"twitter\"/></a>\\n<a rel=\"nofollow\" title=\"Pinterest\" target=\"_blank\" href=\"https://www.pinterest.com/pin/create/button/?url=https://www.javatpoint.com/python-features\"><img src=\"https://www.javatpoint.com/images/pinterest32.png\" alt=\"pinterest\"/></a>\\n<!-- contribute start-->\\n\\n<!-- contribute end-->\\n\\n<script async src=\"https://pagead2.googlesyndication.com/pagead/js/adsbygoogle.js\"></script>\\n<!-- AP_37780_300x250(0) -->\\n<ins class=\"adsbygoogle\"\\n     style=\"display:block\"\\n     data-ad-client=\"ca-pub-4699858549023382\"\\n     data-ad-slot=\"5022809933\"\\n     data-ad-format=\"auto\"\\n     data-full-width-responsive=\"true\"></ins>\\n<script>\\n     (adsbygoogle = window.adsbygoogle || []).push({});\\n</script>\\n\\n\\n\\n<!-- latest tutorials start --> \\n<h2 class=\"h2\">Learn Latest Tutorials</h2>\\n<div class=\"firsthomecontent\">\\n\\n                        <a href=\"https://www.javatpoint.com/soapui\">\\n                            <div class=\"homecontent\"><img class=\"lazyload\" data-src=\"https://static.javatpoint.com/tutorial/soapui/images/soapui-home.png\" alt=\"SoapUI tutorial\" />\\n                                <p>SoapUI</p>\\n                            </div>\\n                        </a>\\n                        <a href=\"https://www.javatpoint.com/rpa\">\\n                            <div class=\"homecontent\"><img class=\"lazyload\" data-src=\"https://static.javatpoint.com/tutorial/rpa/images/rpa-home.png\" alt=\"RPA tutorial\" />\\n                                <p>RPA</p>\\n                            </div>\\n                        </a>\\n                        <a href=\"https://www.javatpoint.com/manual-testing\">\\n                            <div class=\"homecontent\"><img class=\"lazyload\" data-src=\"https://static.javatpoint.com/tutorial/software-testing/images/manual-testing-home.png\" alt=\"manual testing tutorial\" />\\n                                <p>Manual T.</p>\\n                            </div>\\n                        </a>\\n                        <a href=\"https://www.javatpoint.com/cucumber-testing\">\\n                            <div class=\"homecontent\"><img class=\"lazyload\" data-src=\"https://static.javatpoint.com/tutorial/cucumber/images/cucumber-testing-home.png\" alt=\"cucumber tutorial\" />\\n                                <p>Cucumber</p>\\n                            </div>\\n                        </a>\\n                        <a href=\"https://www.javatpoint.com/appium\">\\n                            <div class=\"homecontent\"><img class=\"lazyload\" data-src=\"https://static.javatpoint.com/tutorial/appium/images/appium-home.png\" alt=\"Appium tutorial\" />\\n                                <p>Appium</p>\\n                            </div>\\n                        </a>\\n\\n                        <a href=\"postgresql-tutorial\">\\n                            <div class=\"homecontent\"><img class=\"lazyload\" data-src=\"https://static.javatpoint.com/postgre/images/postgre-logo.png\" alt=\"postgresql tutorial\" />\\n                                <p>PostgreSQL</p>\\n                            </div>\\n                        </a>\\n\\n                          <a href=\"https://www.javatpoint.com/apache-solr\">\\n                            <div class=\"homecontent\"><img class=\"lazyload\" data-src=\"https://static.javatpoint.com/tutorial/apache-solr/images/apache-solr-home.png\" alt=\"Apache Solr Tutorial\" />\\n                                <p>Solr</p> \\n                            </div>    \\n                        </a>  \\n                        <a href=\"mongodb-tutorial\">\\n                            <div class=\"homecontent\"><img class=\"lazyload\" data-src=\"https://static.javatpoint.com/images/logo/mongodb.png\" alt=\"MongoDB tutorial\" />\\n                                <p>MongoDB</p>\\n                            </div>\\n                        </a>\\n                          <a href=\"https://www.javatpoint.com/gimp\">\\n                            <div class=\"homecontent\"><img class=\"lazyload\" data-src=\"https://static.javatpoint.com/tutorial/gimp/images/gimp-home.png\" alt=\"Gimp Tutorial\" />\\n                                <p>Gimp</p> \\n                            </div>    \\n                        </a>  \\n                          <a href=\"https://www.javatpoint.com/verilog\">\\n                            <div class=\"homecontent\"><img class=\"lazyload\" data-src=\"https://static.javatpoint.com/tutorial/verilog/images/verilog-home.png\" alt=\"Verilog Tutorial\" />\\n                                <p>Verilog</p> \\n                            </div>    \\n                        </a>  \\n                          <a href=\"https://www.javatpoint.com/teradata\">\\n                            <div class=\"homecontent\"><img class=\"lazyload\" data-src=\"https://static.javatpoint.com/tutorial/teradata/images/teradata-home.png\" alt=\"Teradata Tutorial\" />\\n                                <p>Teradata</p> \\n                            </div>    \\n                        </a>  \\n                          <a href=\"https://www.javatpoint.com/phonegap\">\\n                            <div class=\"homecontent\"><img class=\"lazyload\" data-src=\"https://static.javatpoint.com/tutorial/phonegap/images/phonegap-home.png\" alt=\"PhoneGap Tutorial\" />\\n                                <p>PhoneGap</p> \\n                            </div>    \\n                        </a>  \\n\\n</div> \\n<hr/>\\n<!-- preparation start -->  \\n<h2 class=\"h2\">Preparation</h2>\\n<div class=\"firsthomecontent\"> \\n \\n                        <a href=\"https://www.javatpoint.com/aptitude/quantitative\">\\n                            <div class=\"homecontent\"><img class=\"lazyload\" data-src=\"https://static.javatpoint.com/aptitude/images/quantitative-aptitude-home.png\" alt=\"Aptitude\" />\\n                                <p>Aptitude</p>\\n                            </div>\\n                        </a>\\n                        <a href=\"https://www.javatpoint.com/reasoning\">\\n                            <div class=\"homecontent\"><img class=\"lazyload\" data-src=\"https://static.javatpoint.com/reasoning/images/reasoning-home.png\" alt=\"Logical Reasoning\" />\\n                                <p>Reasoning</p>\\n                            </div>\\n                        </a>\\n                        <a href=\"https://www.javatpoint.com/verbal-ability\">\\n                            <div class=\"homecontent\"><img class=\"lazyload\" data-src=\"https://static.javatpoint.com/verbal-ability/images/verbal-ability-home.png\" alt=\"Verbal Ability\" />\\n                                <p>Verbal A.</p>\\n                            </div>\\n                        </a>\\n                        <a href=\"https://www.javatpoint.com/interview-questions-and-answers\">\\n                            <div class=\"homecontent\"><img class=\"lazyload\" data-src=\"https://static.javatpoint.com/images/logo/interviewhome.png\" alt=\"Interview Questions\" />\\n                                <p>Interview</p>\\n                            </div>\\n                        </a>\\n                        <a href=\"https://www.javatpoint.com/company-interview-questions-and-recruitment-process\">\\n                            <div class=\"homecontent\"><img class=\"lazyload\" data-src=\"https://static.javatpoint.com/interview/images/company-home.jpeg\" alt=\"Company Interview Questions\" />\\n                                <p>Company</p>\\n                            </div> \\n                        </a> \\n\\n</div>\\n<hr/>\\n<!-- trending start -->  \\n<h2 class=\"h2\">Trending Technologies</h2>\\n<div class=\"firsthomecontent\">\\n\\n                        <a href=\"https://www.javatpoint.com/artificial-intelligence-tutorial\">\\n                            <div class=\"homecontent\"><img class=\"lazyload\" data-src=\"https://static.javatpoint.com/tutorial/ai/images/ai-home.png\" alt=\"Artificial Intelligence Tutorial\" />\\n                                <p>AI</p>\\n                            </div> \\n                        </a> \\n                        <a href=\"https://www.javatpoint.com/aws-tutorial\">\\n                            <div class=\"homecontent\"><img class=\"lazyload\" data-src=\"https://static.javatpoint.com/tutorial/aws/images/aws-home.png\" alt=\"AWS Tutorial\" />\\n                                <p>AWS</p>\\n                            </div>\\n                        </a>\\n                        <a href=\"https://www.javatpoint.com/selenium-tutorial\">\\n                            <div class=\"homecontent\"><img class=\"lazyload\" data-src=\"https://static.javatpoint.com/tutorial/selenium/images/selenium-home.jpg\" alt=\"Selenium tutorial\" />\\n                                <p>Selenium</p>\\n                            </div>\\n                        </a>\\n                        <a href=\"https://www.javatpoint.com/cloud-computing-tutorial\">\\n                            <div class=\"homecontent\"><img class=\"lazyload\" data-src=\"https://static.javatpoint.com/images/logo/cloudhome.png\" alt=\"Cloud tutorial\" />\\n                                <p>Cloud</p>\\n                            </div>\\n                        </a>\\n                        <a href=\"https://www.javatpoint.com/hadoop-tutorial\">\\n                            <div class=\"homecontent\"><img class=\"lazyload\" data-src=\"https://static.javatpoint.com/images/logo/hadoop.jpg\" alt=\"Hadoop tutorial\" />\\n                                <p>Hadoop</p>\\n                            </div>\\n                        </a>\\n                        <a href=\"https://www.javatpoint.com/reactjs-tutorial\">\\n                            <div class=\"homecontent\"><img class=\"lazyload\" data-src=\"https://static.javatpoint.com/tutorial/reactjs/images/reactjs-home.png\" alt=\"ReactJS Tutorial\" />\\n                                <p>ReactJS</p>\\n                            </div> \\n                        </a>  \\n                        <a href=\"https://www.javatpoint.com/data-science\">\\n                            <div class=\"homecontent\"><img class=\"lazyload\" data-src=\"https://static.javatpoint.com/tutorial/data-science/images/data-science-home.png\" alt=\"Data Science Tutorial\" />\\n                                <p>D. Science</p>\\n                            </div> \\n                        </a>  \\n                        <a href=\"https://www.javatpoint.com/angular-7-tutorial\">\\n                            <div class=\"homecontent\"><img class=\"lazyload\" data-src=\"https://static.javatpoint.com/tutorial/angular7/images/angular-7-home.png\" alt=\"Angular 7 Tutorial\" />\\n                                <p>Angular 7</p>\\n                            </div> \\n                        </a>  \\n                        <a href=\"https://www.javatpoint.com/blockchain-tutorial\">\\n                            <div class=\"homecontent\"><img class=\"lazyload\" data-src=\"https://static.javatpoint.com/tutorial/blockchain/images/blockchain-home.png\" alt=\"Blockchain Tutorial\" />\\n                                <p>Blockchain</p>\\n                            </div>  \\n                        </a> \\n                        <a href=\"https://www.javatpoint.com/git\">\\n                            <div class=\"homecontent\"><img class=\"lazyload\" data-src=\"https://static.javatpoint.com/tutorial/git/images/git-home.png\" alt=\"Git Tutorial\" />\\n                                <p>Git</p>\\n                            </div> \\n                        </a> \\n                          <a href=\"https://www.javatpoint.com/machine-learning\">\\n                            <div class=\"homecontent\"><img class=\"lazyload\" data-src=\"https://static.javatpoint.com/tutorial/machine-learning/images/machine-learning-home.png\" alt=\"Machine Learning Tutorial\" />\\n                                <p>ML</p> \\n                            </div>    \\n                        </a> \\n                          <a href=\"https://www.javatpoint.com/devops\">\\n                            <div class=\"homecontent\"><img class=\"lazyload\" data-src=\"https://static.javatpoint.com/tutorial/devops/images/devops-home.png\" alt=\"DevOps Tutorial\" />\\n                                <p>DevOps</p> \\n                            </div>    \\n                        </a> \\n\\n</div>\\n \\n<hr/>\\n<!-- B.Tech / MCA -->\\n                    <h2 class=\"h2\">B.Tech / MCA</h2>\\n                    <div class=\"firsthomecontent\">\\n                        <a href=\"https://www.javatpoint.com/dbms-tutorial\">\\n                            <div class=\"homecontent\"><img class=\"lazyload\" data-src=\"https://static.javatpoint.com/dbms/images/dbms-home.jpg\" alt=\"DBMS tutorial\" />\\n                                <p>DBMS</p>\\n                            </div>\\n                        </a>\\n                        <a href=\"https://www.javatpoint.com/data-structure-tutorial\">\\n                            <div class=\"homecontent\"><img class=\"lazyload\" data-src=\"https://static.javatpoint.com/ds/images/ds-home.png\" alt=\"Data Structures tutorial\" />\\n                                <p>DS</p>\\n                            </div>\\n                        </a> \\n                        <a href=\"https://www.javatpoint.com/daa-tutorial\">\\n                            <div class=\"homecontent\"><img class=\"lazyload\" data-src=\"https://static.javatpoint.com/tutorial/daa/images/daa-home.png\" alt=\"DAA tutorial\" />\\n                                <p>DAA</p>\\n                            </div>\\n                        </a>\\n                        <a href=\"https://www.javatpoint.com/os-tutorial\">\\n                            <div class=\"homecontent\"><img class=\"lazyload\" data-src=\"https://static.javatpoint.com/operating-system/images/operating-system-home.png\" alt=\"Operating System tutorial\" />\\n                                <p>OS</p>\\n                            </div>\\n                        </a>\\n                        <a href=\"https://www.javatpoint.com/computer-network-tutorial\">\\n                            <div class=\"homecontent\"><img class=\"lazyload\" data-src=\"https://static.javatpoint.com/tutorial/computer-network/images/computer-network-home.png\" alt=\"Computer Network tutorial\" />\\n                                <p>C. Network</p>\\n                            </div>\\n                        </a>\\n                        <a href=\"https://www.javatpoint.com/compiler-tutorial\">\\n                            <div class=\"homecontent\"><img class=\"lazyload\" data-src=\"https://static.javatpoint.com/compiler/images/compiler-design-home.png\" alt=\"Compiler Design tutorial\" />\\n                                <p>Compiler D.</p>\\n                            </div>\\n                        </a>\\n                        <a href=\"https://www.javatpoint.com/computer-organization-and-architecture-tutorial\">\\n                            <div class=\"homecontent\"><img class=\"lazyload\" data-src=\"https://static.javatpoint.com/tutorial/coa/images/coa-home.png\" alt=\"Computer Organization and Architecture\" />\\n                                <p>COA</p>\\n                            </div>\\n                        </a>\\n                        <a href=\"https://www.javatpoint.com/discrete-mathematics-tutorial\">\\n                            <div class=\"homecontent\"><img class=\"lazyload\" data-src=\"https://static.javatpoint.com/tutorial/dms/images/discrete-mathematics-home.png\" alt=\"Discrete Mathematics Tutorial\" />\\n                                <p>D. Math.</p>\\n                            </div>\\n                        </a>\\n                        <a href=\"https://www.javatpoint.com/ethical-hacking-tutorial\">\\n                            <div class=\"homecontent\"><img class=\"lazyload\" data-src=\"https://static.javatpoint.com/tutorial/ethical-hacking/images/ethical-hacking-home.png\" alt=\"Ethical Hacking Tutorial\" />\\n                                <p>E. Hacking</p>\\n                            </div>\\n                        </a>\\n                        <a href=\"https://www.javatpoint.com/computer-graphics-tutorial\">\\n                            <div class=\"homecontent\"><img class=\"lazyload\" data-src=\"https://static.javatpoint.com/tutorial/computer-graphics/images/computer-graphics-home.png\" alt=\"Computer Graphics Tutorial\" />\\n                                <p>C. Graphics</p>\\n                            </div> \\n                        </a>\\n                        <a href=\"https://www.javatpoint.com/software-engineering-tutorial\">\\n                            <div class=\"homecontent\"><img class=\"lazyload\" data-src=\"https://static.javatpoint.com/tutorial/software-engineering/images/software-engineering-home.png\" alt=\"Software Engineering Tutorial\" />\\n                                <p>Software E.</p>\\n                            </div> \\n                        </a> \\n\\n                        <a href=\"https://www.javatpoint.com/html-tutorial\">\\n                            <div class=\"homecontent\"><img class=\"lazyload\" data-src=\"https://static.javatpoint.com/images/logo/html-tutorial.png\" alt=\"html tutorial\" />\\n                                <p>Web Tech.</p>\\n                            </div>\\n                        </a>\\n                        <a href=\"https://www.javatpoint.com/cyber-security-tutorial\">\\n                            <div class=\"homecontent\"><img class=\"lazyload\" data-src=\"https://static.javatpoint.com/tutorial/cybersecurity/images/cyber-security-home.png\" alt=\"Cyber Security tutorial\" />\\n                                <p>Cyber Sec.</p>\\n                            </div>\\n                        </a>\\n                        <a href=\"https://www.javatpoint.com/automata-tutorial\">\\n                            <div class=\"homecontent\"><img class=\"lazyload\" data-src=\"https://static.javatpoint.com/tutorial/automata/images/automata-home.jpg\" alt=\"Automata Tutorial\" />\\n                                <p>Automata</p>\\n                            </div> \\n                        </a>\\n                        \\n                        <a href=\"https://www.javatpoint.com/c-programming-language-tutorial\">\\n                            <div class=\"homecontent\"><img class=\"lazyload\" data-src=\"https://static.javatpoint.com/images/logo/clanguagehome.png\" alt=\"C Language tutorial\" />\\n                                <p>C</p>\\n                            </div>\\n                        </a>\\n                        <a href=\"https://www.javatpoint.com/cpp-tutorial\">\\n                            <div class=\"homecontent\"><img class=\"lazyload\" data-src=\"https://static.javatpoint.com/cpp/images/cpp-home.png\" alt=\"C++ tutorial\" />\\n                                <p>C++</p>\\n                            </div>\\n                        </a>\\n                        <a href=\"https://www.javatpoint.com/java-tutorial\">\\n                            <div class=\"homecontent\"><img class=\"lazyload\" data-src=\"https://static.javatpoint.com/images/logo/javahome.png\" alt=\"Java tutorial\" />\\n                                <p>Java</p>\\n                            </div>\\n                        </a>\\n                        <a href=\"https://www.javatpoint.com/net-framework\">\\n                            <div class=\"homecontent\"><img class=\"lazyload\" data-src=\"https://static.javatpoint.com/csharp/net/images/net-home.png\" alt=\".Net Framework tutorial\" />\\n                                <p>.Net</p>\\n                            </div>\\n                        </a>\\n                        <a href=\"https://www.javatpoint.com/python-tutorial\">\\n                            <div class=\"homecontent\"><img class=\"lazyload\" data-src=\"https://static.javatpoint.com/images/logo/pythonhome.png\" alt=\"Python tutorial\" />\\n                                <p>Python</p>\\n                            </div>\\n                        </a>\\n\\n                        <a href=\"https://www.javatpoint.com/programs-list\">\\n                            <div class=\"homecontent\"><img class=\"lazyload\" data-src=\"https://www.javatpoint.com/images/programs.jpg\" alt=\"List of Programs\" />\\n                                <p>Programs</p>\\n                            </div>\\n                        </a>\\n                        <a href=\"https://www.javatpoint.com/control-system-tutorial\">\\n                            <div class=\"homecontent\"><img class=\"lazyload\" data-src=\"https://static.javatpoint.com/tutorial/control-system/images/control-system-home.jpg\" alt=\"Control Systems tutorial\" />\\n                                <p>Control S.</p>\\n                            </div>\\n                        </a>\\n                        <a href=\"https://www.javatpoint.com/data-mining\">\\n                            <div class=\"homecontent\"><img class=\"lazyload\" data-src=\"https://static.javatpoint.com/tutorial/data-mining/images/data-mining-home.png\" alt=\"Data Mining Tutorial\" />\\n                                <p>Data Mining</p> \\n                            </div>    \\n                        </a> \\n\\n</div>\\n\\n \\n</div>\\n\\n\\n<br><br/><div class=\"mobilemenu\" style=\"clear:both\">\\n<ins class=\"adPushupAds\" data-adpControl=\"jrfe7\" data-ver=\"2\" data-siteId=\"37780\" data-ac=\"PHNjcmlwdCBhc3luYyBzcmM9Ii8vcGFnZWFkMi5nb29nbGVzeW5kaWNhdGlvbi5jb20vcGFnZWFkL2pzL2Fkc2J5Z29vZ2xlLmpzIj48L3NjcmlwdD4KPCEtLSByZXNwb25zaXZlbW9iaWxlZm9vdGVyIC0tPgo8aW5zIGNsYXNzPSJhZHNieWdvb2dsZSIKICAgICBzdHlsZT0iZGlzcGxheTpibG9jayIKICAgICBkYXRhLWFkLWNsaWVudD0iY2EtcHViLTQ2OTk4NTg1NDkwMjMzODIiCiAgICAgZGF0YS1hZC1zbG90PSI4MjIyODY2MzE4IgogICAgIGRhdGEtYWQtZm9ybWF0PSJhdXRvIgogICAgIGRhdGEtZnVsbC13aWR0aC1yZXNwb25zaXZlPSJ0cnVlIj48L2lucz4KPHNjcmlwdD4KKGFkc2J5Z29vZ2xlID0gd2luZG93LmFkc2J5Z29vZ2xlIHx8IFtdKS5wdXNoKHt9KTsKPC9zY3JpcHQ+\"></ins><script data-cfasync=\"false\" type=\"text/javascript\">(function (w, d) { for (var i = 0, j = d.getElementsByTagName(\"ins\"), k = j[i]; i < j.length; k = j[++i]){ if(k.className == \"adPushupAds\" && k.getAttribute(\"data-push\") != \"1\") { ((w.adpushup = w.adpushup || {}).control = (w.adpushup.control || [])).push(k); k.setAttribute(\"data-push\", \"1\");} } })(window, document);</script>\\n</div></div>\\n\\n<div id=\"right\">\\n\\n<ins class=\"adPushupAds\" data-adpControl=\"am3c1\" data-ver=\"2\" data-siteId=\"37780\" data-ac=\"PHNjcmlwdCBhc3luYyBzcmM9Ii8vcGFnZWFkMi5nb29nbGVzeW5kaWNhdGlvbi5jb20vcGFnZWFkL2pzL2Fkc2J5Z29vZ2xlLmpzIj48L3NjcmlwdD4KPCEtLSBuZXdyaWdodCAtLT4KPGlucyBjbGFzcz0iYWRzYnlnb29nbGUiCiAgICAgc3R5bGU9ImRpc3BsYXk6YmxvY2siCiAgICAgZGF0YS1hZC1jbGllbnQ9ImNhLXB1Yi00Njk5ODU4NTQ5MDIzMzgyIgogICAgIGRhdGEtYWQtc2xvdD0iNjAzNDkxMjU0MSIKICAgICBkYXRhLWFkLWZvcm1hdD0iYXV0byIKICAgICBkYXRhLWZ1bGwtd2lkdGgtcmVzcG9uc2l2ZT0idHJ1ZSI+PC9pbnM+CjxzY3JpcHQ+CihhZHNieWdvb2dsZSA9IHdpbmRvdy5hZHNieWdvb2dsZSB8fCBbXSkucHVzaCh7fSk7Cjwvc2NyaXB0Pg==\"></ins><script data-cfasync=\"false\" type=\"text/javascript\">(function (w, d) { for (var i = 0, j = d.getElementsByTagName(\"ins\"), k = j[i]; i < j.length; k = j[++i]){ if(k.className == \"adPushupAds\" && k.getAttribute(\"data-push\") != \"1\") { ((w.adpushup = w.adpushup || {}).control = (w.adpushup.control || [])).push(k); k.setAttribute(\"data-push\", \"1\");} } })(window, document);</script>\\n\\n<br/><br/>\\n\\n<ins class=\"adPushupAds\" data-adpControl=\"am3c1\" data-ver=\"2\" data-siteId=\"37780\" data-ac=\"PHNjcmlwdCBhc3luYyBzcmM9Ii8vcGFnZWFkMi5nb29nbGVzeW5kaWNhdGlvbi5jb20vcGFnZWFkL2pzL2Fkc2J5Z29vZ2xlLmpzIj48L3NjcmlwdD4KPCEtLSBuZXdyaWdodCAtLT4KPGlucyBjbGFzcz0iYWRzYnlnb29nbGUiCiAgICAgc3R5bGU9ImRpc3BsYXk6YmxvY2siCiAgICAgZGF0YS1hZC1jbGllbnQ9ImNhLXB1Yi00Njk5ODU4NTQ5MDIzMzgyIgogICAgIGRhdGEtYWQtc2xvdD0iNjAzNDkxMjU0MSIKICAgICBkYXRhLWFkLWZvcm1hdD0iYXV0byIKICAgICBkYXRhLWZ1bGwtd2lkdGgtcmVzcG9uc2l2ZT0idHJ1ZSI+PC9pbnM+CjxzY3JpcHQ+CihhZHNieWdvb2dsZSA9IHdpbmRvdy5hZHNieWdvb2dsZSB8fCBbXSkucHVzaCh7fSk7Cjwvc2NyaXB0Pg==\"></ins><script data-cfasync=\"false\" type=\"text/javascript\">(function (w, d) { for (var i = 0, j = d.getElementsByTagName(\"ins\"), k = j[i]; i < j.length; k = j[++i]){ if(k.className == \"adPushupAds\" && k.getAttribute(\"data-push\") != \"1\") { ((w.adpushup = w.adpushup || {}).control = (w.adpushup.control || [])).push(k); k.setAttribute(\"data-push\", \"1\");} } })(window, document);</script>\\n\\n<br/><br/>\\n</div>\\n \\n<div class=\"right1024\" style=\"float:left;margin-left:10px;margin-top:120px;\">\\n<!-- right1024only -->\\n<ins class=\"adPushupAds\" data-adpControl=\"6d5qg\" data-ver=\"2\" data-siteId=\"37780\" data-ac=\"PHNjcmlwdCBhc3luYyBzcmM9Ii8vcGFnZWFkMi5nb29nbGVzeW5kaWNhdGlvbi5jb20vcGFnZWFkL2pzL2Fkc2J5Z29vZ2xlLmpzIj48L3NjcmlwdD4KPCEtLSByaWdodDEwMjRvbmx5IC0tPgo8aW5zIGNsYXNzPSJhZHNieWdvb2dsZSIKICAgICBzdHlsZT0iZGlzcGxheTppbmxpbmUtYmxvY2s7d2lkdGg6MTIwcHg7aGVpZ2h0OjYwMHB4IgogICAgIGRhdGEtYWQtY2xpZW50PSJjYS1wdWItNDY5OTg1ODU0OTAyMzM4MiIKICAgICBkYXRhLWFkLXNsb3Q9IjIxODAxMTg3MTYiPjwvaW5zPgo8c2NyaXB0PgooYWRzYnlnb29nbGUgPSB3aW5kb3cuYWRzYnlnb29nbGUgfHwgW10pLnB1c2goe30pOwo8L3NjcmlwdD4K\"></ins><script data-cfasync=\"false\" type=\"text/javascript\">(function (w, d) { for (var i = 0, j = d.getElementsByTagName(\"ins\"), k = j[i]; i < j.length; k = j[++i]){ if(k.className == \"adPushupAds\" && k.getAttribute(\"data-push\") != \"1\") { ((w.adpushup = w.adpushup || {}).control = (w.adpushup.control || [])).push(k); k.setAttribute(\"data-push\", \"1\");} } })(window, document);</script>\\n<br/><br/>\\n<ins class=\"adPushupAds\" data-adpControl=\"6d5qg\" data-ver=\"2\" data-siteId=\"37780\" data-ac=\"PHNjcmlwdCBhc3luYyBzcmM9Ii8vcGFnZWFkMi5nb29nbGVzeW5kaWNhdGlvbi5jb20vcGFnZWFkL2pzL2Fkc2J5Z29vZ2xlLmpzIj48L3NjcmlwdD4KPCEtLSByaWdodDEwMjRvbmx5IC0tPgo8aW5zIGNsYXNzPSJhZHNieWdvb2dsZSIKICAgICBzdHlsZT0iZGlzcGxheTppbmxpbmUtYmxvY2s7d2lkdGg6MTIwcHg7aGVpZ2h0OjYwMHB4IgogICAgIGRhdGEtYWQtY2xpZW50PSJjYS1wdWItNDY5OTg1ODU0OTAyMzM4MiIKICAgICBkYXRhLWFkLXNsb3Q9IjIxODAxMTg3MTYiPjwvaW5zPgo8c2NyaXB0PgooYWRzYnlnb29nbGUgPSB3aW5kb3cuYWRzYnlnb29nbGUgfHwgW10pLnB1c2goe30pOwo8L3NjcmlwdD4K\"></ins><script data-cfasync=\"false\" type=\"text/javascript\">(function (w, d) { for (var i = 0, j = d.getElementsByTagName(\"ins\"), k = j[i]; i < j.length; k = j[++i]){ if(k.className == \"adPushupAds\" && k.getAttribute(\"data-push\") != \"1\") { ((w.adpushup = w.adpushup || {}).control = (w.adpushup.control || [])).push(k); k.setAttribute(\"data-push\", \"1\");} } })(window, document);</script>\\n\\n</div>\\n<br/>\\n<div id=\"footer\" style=\"clear:both;width:100%\">\\n\\n<!--<div style=\"width:100%;float:center;margin-top:-20px;color:white;background-image: linear-gradient(145deg,#90715c,#523b1f);line-height:28px;\"> <h2 style=\"padding:60px 0px 0px 20px\">Summer Training</h2> <p style=\"padding:0px 20px 60px 20px\">JavaTpoint offers <strong>Summer Internship Training</strong> on Java, PHP, .Net, Hadoop, Data Analytics, R Programming, SAP, Android, Python, Oracle, Seleninum, Linux, C++ and many more technologies in Delhi/NCR, India. For more visit <a style=\"color:white\" href=\"https://training.javatpoint.com\"><img src=\"https://static.javatpoint.com/images/linkglobe12.png\" alt=\"javatpoint training\"/>training.javatpoint.com</a> <br>Course Fee: &#8377; 6000 Only<br>Duration: 6 Week </p></div>--><div style=\"width:100%;margin-top:10px;color:white;background-image: linear-gradient(145deg,#52a2fc,#480fcc);line-height:28px;\"> <h2 style=\"padding:60px 0px 0px 20px\">Javatpoint Services</h2> <p style=\"padding:0px 20px 0px 20px\">JavaTpoint offers too many high quality services. Mail us on hr@javatpoint.com, to get more information about given services. </p><ul class=\"points\"> <li>Website Designing</li><li>Website Development</li><li>Java Development</li><li>PHP Development</li><li>WordPress</li><li>Graphic Designing</li><li>Logo</li><li>Digital Marketing</li><li>On Page and Off Page SEO</li><li>PPC</li><li>Content Development</li><li>Corporate Training</li><li>Classroom and Online Training</li><li>Data Entry</li></ul> <p style=\"padding-bottom:60px\"></p></div><div style=\"width:100%;margin-top:-20px;color:white;background-image: linear-gradient(145deg,#dc8140,#b16b15);line-height:28px;\"> <h2 style=\"padding:60px 0px 0px 20px\">Training For College Campus</h2> <p style=\"padding:0px 20px 60px 20px\">JavaTpoint offers college campus training on Core Java, Advance Java, .Net, Android, Hadoop, PHP, Web Technology and Python. Please mail your requirement at hr@javatpoint.com. <br>Duration: 1 week to 2 week<br></p></div><!--<div class=\"homebox2\"><h2>Our Initiatives</h2><marquee behavior=\"alternate\"><a rel=\"nofollow noopener\" href=\"https://www.hindi100.com\"><div class=\"box2\"><img class=\"box2img\" src=\"https://www.hindi100.com/resources/images/javatpoint.png\" alt=\"javatpoint\"/><p>Hindi100</p></div></a><a rel=\"nofollow noopener\" href=\"https://www.lyricsia.com\"><div class=\"box2\"><img class=\"box2img\" src=\"https://www.hindi100.com/resources/images/lyrics.png\" alt=\"lyrics\"/><p>Lyricsia</p></div></a></div></a></marquee></div>--><script>var _gaq=_gaq || []; _gaq.push([\\'_setAccount\\', \\'UA-24880427-1\\']); _gaq.push([\\'_trackPageview\\']); (function(){var ga=document.createElement(\\'script\\'); ga.type=\\'text/javascript\\'; ga.async=true; ga.src=(\\'https:\\'==document.location.protocol ? \\'https://ssl\\' : \\'https://www\\') + \\'.google-analytics.com/ga.js\\'; var s=document.getElementsByTagName(\\'script\\')[0]; s.parentNode.insertBefore(ga, s);})();</script><div style=\"margin-top:5px;text-align:center\"> <sup style=\"font:16px arial;\">Like/Subscribe us for latest updates or newsletter </sup> <a target=\"_blank\" rel=\"nofollow noopener\" href=\"https://feeds.feedburner.com/javatpointsonoo\"><img src=\"https://static.javatpoint.com/images/social/rss1.png\" alt=\"RSS Feed\"/></a> <a target=\"_blank\"  rel=\"nofollow noopener\" href=\"https://feedburner.google.com/fb/a/mailverify?uri=javatpointsonoo\"><img src=\"https://static.javatpoint.com/images/social/mail1.png\" alt=\"Subscribe to Get Email Alerts\"/></a> <a  rel=\"nofollow noopener\" target=\"_blank\" href=\"https://www.facebook.com/javatpoint\"><img src=\"https://static.javatpoint.com/images/social/facebook1.jpg\" alt=\"Facebook Page\"/></a> <a target=\"_blank noopener\" rel=\"nofollow\" href=\"https://twitter.com/pagejavatpoint\"><img src=\"https://static.javatpoint.com/images/social/twitter1.png\" alt=\"Twitter Page\"/></a> <a target=\"_blank\" rel=\"nofollow noopener\" href=\"https://www.youtube.com/channel/UCUnYvQVCrJoFWZhKK3O2xLg\"><img src=\"https://static.javatpoint.com/images/youtube32.png\" alt=\"YouTube\"/></a> <a target=\"_blank\" rel=\"nofollow noopener\" href=\"https://javatpoint.blogspot.com\"><img src=\"https://static.javatpoint.com/images/social/blog.png\" alt=\"Blog Page\"/></a> </div><footer class=\"footer1\"><div class=\"column4\"><h3>Learn Tutorials</h3><a href=\"https://www.javatpoint.com/java-tutorial\">Learn Java</a><a href=\"https://www.javatpoint.com/data-structure-tutorial\">Learn Data Structures</a><a href=\"https://www.javatpoint.com/c-programming-language-tutorial\">Learn C Programming</a><a href=\"https://www.javatpoint.com/cpp-tutorial\">Learn C++ Tutorial</a><a href=\"https://www.javatpoint.com/c-sharp-tutorial\">Learn C# Tutorial</a><a href=\"https://www.javatpoint.com/php-tutorial\">Learn PHP Tutorial</a><a href=\"https://www.javatpoint.com/html-tutorial\">Learn HTML Tutorial</a><a href=\"https://www.javatpoint.com/javascript-tutorial\">Learn JavaScript Tutorial</a><a href=\"https://www.javatpoint.com/jquery-tutorial\">Learn jQuery Tutorial</a><a href=\"https://www.javatpoint.com/spring-tutorial\">Learn Spring Tutorial</a></div><div class=\"column4\"><h3>Our Websites</h3><a href=\"https://www.javatpoint.com\">Javatpoint.com</a><a rel=\"dofollow noopener\" target=\"_blank\" href=\"https://www.hindi100.com\">Hindi100.com</a><a rel=\"dofollow noopener\" target=\"_blank\" href=\"https://www.lyricsia.com\">Lyricsia.com</a><a rel=\"nofollow noopener\" target=\"_blank\" href=\"https://www.quoteperson.com\">Quoteperson.com</a><a rel=\"nofollow noopener\" target=\"_blank\" href=\"https://www.jobandplacement.com\">Jobandplacement.com</a></div><div class=\"column4\"><h3>Our Services</h3><p>Website Development</p><p>Android Development</p><p>Website Designing</p><p>Digital Marketing</p><p>Summer Training</p><p>Industrial Training</p><p>College Campus Training</p></div><div class=\"column4\"><h3>Contact</h3><p>Address: G-13, 2nd Floor, Sec-3</p><p>Noida, UP, 201301, India</p><p>Contact No: 0120-4256464, 9990449935</p><a href=\"https://www.javatpoint.com/contact-us\">Contact Us</a> <a href=\"https://www.javatpoint.com/subscribe.jsp\">Subscribe Us</a> <a href=\"https://www.javatpoint.com/privacy-policy\">Privacy Policy</a><a href=\"https://www.javatpoint.com/sitemap.xml\">Sitemap</a><br><a href=\"https://www.javatpoint.com/sonoo-jaiswal\">About Me</a></div></footer><footer class=\"footer2\"><p>&copy; Copyright 2011-2018 www.javatpoint.com. All rights reserved. Developed by JavaTpoint.</p></footer>\\n<div id=\"bot-root\"></div>\\n<script>\\n (function() {\\n var e = document.createElement(\\'script\\');\\n e.src = \\'https://app.pushbrothers.com/js/notification-bot.js?cnfg=a3cc04a1-8471-450e-b01e-c9d752b16eb0\\';\\n document.getElementById(\\'bot-root\\').appendChild(e);}());\\n</script>\\n</div></div></div> \\n\\n<script src=\"https://static.javatpoint.com/js/shcoreandbrush.js\"></script><script> dp.SyntaxHighlighter.HighlightAll(\\'code\\'); </script>\\n<script src=\"https://static.javatpoint.com/lazysizes.min.js\" async></script>\\n</body> </html> '"
            ]
          },
          "metadata": {
            "tags": []
          },
          "execution_count": 6
        }
      ]
    },
    {
      "cell_type": "code",
      "metadata": {
        "id": "3-GtUPLTD_CO",
        "colab": {
          "base_uri": "https://localhost:8080/"
        },
        "outputId": "fafa191d-a74a-4dbc-e0a0-07157e57bece"
      },
      "source": [
        "article.parse()\n",
        "article.authors"
      ],
      "execution_count": 7,
      "outputs": [
        {
          "output_type": "execute_result",
          "data": {
            "text/plain": [
              "[]"
            ]
          },
          "metadata": {
            "tags": []
          },
          "execution_count": 7
        }
      ]
    },
    {
      "cell_type": "code",
      "metadata": {
        "id": "Hu03fd3tED3k"
      },
      "source": [
        "article.publish_date"
      ],
      "execution_count": 8,
      "outputs": []
    },
    {
      "cell_type": "code",
      "metadata": {
        "colab": {
          "base_uri": "https://localhost:8080/",
          "height": 137
        },
        "id": "A_VmmoCNEIwc",
        "outputId": "f7d1fd8c-6436-4fa4-9d5b-480c5233c348"
      },
      "source": [
        "article.text"
      ],
      "execution_count": 9,
      "outputs": [
        {
          "output_type": "execute_result",
          "data": {
            "application/vnd.google.colaboratory.intrinsic+json": {
              "type": "string"
            },
            "text/plain": [
              "'next → ← prev Python Features Python provides many useful features which make it popular and valuable from the other programming languages. It supports object-oriented programming, procedural programming approaches and provides dynamic memory allocation. We have listed below a few essential features. 1) Easy to Learn and Use Python is easy to learn as compared to other programming languages. Its syntax is straightforward and much the same as the English language. There is no use of the semicolon or curly-bracket, the indentation defines the code block. It is the recommended programming language for beginners. 2) Expressive Language Python can perform complex tasks using a few lines of code. A simple example, the hello world program you simply type print(\"Hello World\"). It will take only one line to execute, while Java or C takes multiple lines. 3) Interpreted Language Python is an interpreted language; it means the Python program is executed one line at a time. The advantage of being interpreted language, it makes debugging easy and portable. 4) Cross-platform Language Python can run equally on different platforms such as Windows, Linux, UNIX, and Macintosh, etc. So, we can say that Python is a portable language. It enables programmers to develop the software for several competing platforms by writing a program only once. 5) Free and Open Source Python is freely available for everyone. It is freely available on its official website www.python.org. It has a large community across the world that is dedicatedly working towards make new python modules and functions. Anyone can contribute to the Python community. The open-source means, \"Anyone can download its source code without paying any penny.\" 6) Object-Oriented Language Python supports object-oriented language and concepts of classes and objects come into existence. It supports inheritance, polymorphism, and encapsulation, etc. The object-oriented procedure helps to programmer to write reusable code and develop applications in less code. 7) Extensible It implies that other languages such as C/C++ can be used to compile the code and thus it can be used further in our Python code. It converts the program into byte code, and any platform can use that byte code. 8) Large Standard Library It provides a vast range of libraries for the various fields such as machine learning, web developer, and also for the scripting. There are various machine learning libraries, such as Tensor flow, Pandas, Numpy, Keras, and Pytorch, etc. Django, flask, pyramids are the popular framework for Python web development. 9) GUI Programming Support Graphical User Interface is used for the developing Desktop application. PyQT5, Tkinter, Kivy are the libraries which are used for developing the web application. 10) Integrated It can be easily integrated with languages like C, C++, and JAVA, etc. Python runs code line by line like C,C++ Java. It makes easy to debug the code. 11. Embeddable The code of the other programming language can use in the Python source code. We can use Python source code in another programming language as well. It can embed other language into our code. 12. Dynamic Memory Allocation In Python, we don\\'t need to specify the data-type of the variable. When we assign some value to the variable, it automatically allocates the memory to the variable at run time. Suppose we are assigned integer value 15 to x, then we don\\'t need to write int x = 15. Just write x = 15. Next Topic Python History\\n\\n\\n\\n← prev next →\\n\\n\\n\\n'"
            ]
          },
          "metadata": {
            "tags": []
          },
          "execution_count": 9
        }
      ]
    },
    {
      "cell_type": "code",
      "metadata": {
        "colab": {
          "base_uri": "https://localhost:8080/",
          "height": 35
        },
        "id": "YB8egPFGELSZ",
        "outputId": "41b516e2-6a10-42ba-a4c7-91fea5a5e84d"
      },
      "source": [
        "article.top_image"
      ],
      "execution_count": 10,
      "outputs": [
        {
          "output_type": "execute_result",
          "data": {
            "application/vnd.google.colaboratory.intrinsic+json": {
              "type": "string"
            },
            "text/plain": [
              "'https://static.javatpoint.com/images/favicon2.png'"
            ]
          },
          "metadata": {
            "tags": []
          },
          "execution_count": 10
        }
      ]
    },
    {
      "cell_type": "code",
      "metadata": {
        "colab": {
          "base_uri": "https://localhost:8080/"
        },
        "id": "29nKuT6cETI5",
        "outputId": "0f2232fb-aba3-44bb-99c1-dec5e48d0458"
      },
      "source": [
        "article.movies"
      ],
      "execution_count": 11,
      "outputs": [
        {
          "output_type": "execute_result",
          "data": {
            "text/plain": [
              "[]"
            ]
          },
          "metadata": {
            "tags": []
          },
          "execution_count": 11
        }
      ]
    },
    {
      "cell_type": "code",
      "metadata": {
        "colab": {
          "base_uri": "https://localhost:8080/"
        },
        "id": "Gg0y2d5LEZ5d",
        "outputId": "12e220fd-504f-47de-e095-cdf22899c9f3"
      },
      "source": [
        "import nltk\n",
        "nltk.download('punkt')\n",
        "article.nlp()\n",
        "article.keywords"
      ],
      "execution_count": 12,
      "outputs": [
        {
          "output_type": "stream",
          "text": [
            "[nltk_data] Downloading package punkt to /root/nltk_data...\n",
            "[nltk_data]   Unzipping tokenizers/punkt.zip.\n"
          ],
          "name": "stdout"
        },
        {
          "output_type": "execute_result",
          "data": {
            "text/plain": [
              "['languages',\n",
              " 'used',\n",
              " 'objectoriented',\n",
              " 'source',\n",
              " 'python',\n",
              " 'language',\n",
              " 'line',\n",
              " 'features',\n",
              " 'program',\n",
              " 'programming',\n",
              " 'code']"
            ]
          },
          "metadata": {
            "tags": []
          },
          "execution_count": 12
        }
      ]
    },
    {
      "cell_type": "code",
      "metadata": {
        "colab": {
          "base_uri": "https://localhost:8080/",
          "height": 86
        },
        "id": "bVDGlanpEhiq",
        "outputId": "3d346783-c866-4d35-82ff-d957aa5a9309"
      },
      "source": [
        "article.summary"
      ],
      "execution_count": 13,
      "outputs": [
        {
          "output_type": "execute_result",
          "data": {
            "application/vnd.google.colaboratory.intrinsic+json": {
              "type": "string"
            },
            "text/plain": [
              "'next → ← prev Python Features Python provides many useful features which make it popular and valuable from the other programming languages.\\n3) Interpreted Language Python is an interpreted language; it means the Python program is executed one line at a time.\\n4) Cross-platform Language Python can run equally on different platforms such as Windows, Linux, UNIX, and Macintosh, etc.\\n6) Object-Oriented Language Python supports object-oriented language and concepts of classes and objects come into existence.\\nEmbeddable The code of the other programming language can use in the Python source code.'"
            ]
          },
          "metadata": {
            "tags": []
          },
          "execution_count": 13
        }
      ]
    },
    {
      "cell_type": "code",
      "metadata": {
        "colab": {
          "base_uri": "https://localhost:8080/"
        },
        "id": "6w82pO_oEqzn",
        "outputId": "a0441176-b491-4ade-9fe8-1be0b8ea740a"
      },
      "source": [
        "import newspaper\n",
        "web_data = newspaper.build(url)\n",
        "for article_new in web_data.articles:\n",
        "  print(article_new.url)"
      ],
      "execution_count": 14,
      "outputs": [
        {
          "output_type": "stream",
          "text": [
            "https://www.javatpoint.com/how-to-install-python-in-windows\n",
            "https://www.javatpoint.com/how-to-reverse-a-string-in-python\n",
            "https://www.javatpoint.com/how-to-read-csv-file-in-python\n",
            "https://www.javatpoint.com/how-to-take-input-in-python\n",
            "https://www.javatpoint.com/how-to-convert-list-to-string-in-python\n",
            "https://www.javatpoint.com/how-to-append-element-in-the-list\n",
            "https://www.javatpoint.com/how-to-compare-two-lists-in-python\n",
            "https://www.javatpoint.com/how-to-convert-int-to-string-in-python\n",
            "https://www.javatpoint.com/how-to-create-a-dictionary-in-python\n",
            "https://www.javatpoint.com/how-to-create-a-virtual-environment-in-python\n",
            "https://www.javatpoint.com/how-to-declare-a-variable-in-python\n",
            "https://www.javatpoint.com/how-to-install-matplotlib-in-python\n",
            "https://www.javatpoint.com/how-to-install-opencv-in-python\n",
            "https://www.javatpoint.com/how-to-print-in-same-line-in-python\n",
            "https://www.javatpoint.com/how-to-read-json-file-in-python\n",
            "https://www.javatpoint.com/how-to-read-a-text-file-in-python\n",
            "https://www.javatpoint.com/how-to-use-for-loop-in-python\n",
            "https://www.javatpoint.com/how-long-does-it-take-to-learn-python\n",
            "https://www.javatpoint.com/how-to-concatenate-two-strings-in-python\n",
            "https://www.javatpoint.com/how-to-connect-database-in-python\n",
            "https://www.javatpoint.com/how-to-convert-list-to-dictionary-in-python\n",
            "https://www.javatpoint.com/how-to-declare-a-global-variable-in-python\n",
            "https://www.javatpoint.com/how-to-reverse-a-number-in-python\n",
            "https://www.javatpoint.com/what-is-an-object-in-python\n",
            "https://www.javatpoint.com/which-is-the-fastest-implementation-of-python\n",
            "https://www.javatpoint.com/how-to-create-a-dataframes-in-python\n",
            "https://www.javatpoint.com/how-to-develop-a-game-in-python\n",
            "https://www.javatpoint.com/how-to-install-tkinter-in-python\n",
            "https://www.javatpoint.com/how-to-plot-a-graph-in-python\n",
            "https://www.javatpoint.com/how-to-print-pattern-in-python\n",
            "https://www.javatpoint.com/how-to-remove-an-element-from-a-list-in-python\n",
            "https://www.javatpoint.com/how-to-round-number-in-python\n",
            "https://www.javatpoint.com/how-to-sort-a-dictionary-in-python\n",
            "https://www.javatpoint.com/how-to-convert-text-to-speech-in-python\n",
            "https://www.javatpoint.com/program-of-cumulative-sum-in-python\n",
            "https://www.javatpoint.com/best-books-to-learn-django-for-beginners-and-advance-programmers\n",
            "https://www.javatpoint.com/gcd-of-two-number-in-python\n",
            "https://www.javatpoint.com/python-program-to-generate-a-random-string\n",
            "https://www.javatpoint.com/how-to-one-hot-encode-sequence-data-in-python\n",
            "https://www.javatpoint.com/how-to-write-square-root-in-python\n",
            "https://www.javatpoint.com/how-to-call-a-function-in-python\n",
            "https://www.javatpoint.com/how-to-get-the-current-date-in-python\n",
            "https://www.javatpoint.com/how-to-add-two-lists-in-python\n",
            "https://www.javatpoint.com/shallow-copy-and-deep-copy-in-python\n",
            "https://www.javatpoint.com/how-to-create-a-vector-in-python-using-numpy\n",
            "https://www.javatpoint.com/how-to-convert-bytes-to-string-in-python\n",
            "https://www.javatpoint.com/how-to-convert-list-to-set\n",
            "https://www.javatpoint.com/what-is-duck-typing-in-python\n",
            "https://www.javatpoint.com/how-to-use-brython-in-the-browser\n",
            "https://www.javatpoint.com/python-website-blocker-building-python-script\n",
            "https://www.javatpoint.com/python-website-blocker-script-deployment-on-linux\n",
            "https://www.javatpoint.com/python-website-blocker-script-deployment-on-windows\n",
            "https://www.javatpoint.com/company-interview-questions-and-recruitment-process\n",
            "https://www.javatpoint.com/pytorch-creating-dataset-of-perceptron-model\n",
            "https://www.javatpoint.com/pytorch-non-linear-boundary-in-deep-neural-network\n",
            "https://www.javatpoint.com/pytorch-architecture-of-deep-neural-network\n",
            "https://www.javatpoint.com/pytorch-feed-forward-process-in-deep-neural-network\n",
            "https://www.javatpoint.com/pytorch-backpropagation-process-in-deep-neural-network\n",
            "https://www.javatpoint.com/pytorch-implementation-of-deep-neural-network\n",
            "https://www.javatpoint.com/pytorch-testing-of-deep-neural-network\n",
            "https://www.javatpoint.com/pytorch-mnist-dataset-of-image-recognition\n",
            "https://www.javatpoint.com/pytorch-image-transforms-in-image-recognition\n",
            "https://www.javatpoint.com/pytorch-implementation-of-neural-network-in-image-recognition\n",
            "https://www.javatpoint.com/pytorch-validation-of-neural-network-for-image-recognition\n",
            "https://www.javatpoint.com/pytorch-testing-of-image-recognition-model\n",
            "https://www.javatpoint.com/pytorch-convolutional-neural-network-model-implementation\n",
            "https://www.javatpoint.com/pytorch-training-of-convolutional-neural-network-model\n",
            "https://www.javatpoint.com/pytorch-validation-of-convolutional-neural-network-model\n",
            "https://www.javatpoint.com/pytorch-testing-of-convolutional-neural-network-model\n",
            "https://www.javatpoint.com/cifar-10-and-cifar-100-dataset-in-pytorch\n",
            "https://www.javatpoint.com/pytorch-testing-of-lenet-model-for-cifar-10-dataset\n",
            "https://www.javatpoint.com/image-loading-and-transformation-for-style-transferring-in-pytorch\n",
            "https://www.javatpoint.com/pytorch-feature-extraction-for-style-transferring\n",
            "https://www.javatpoint.com/pytorch-gram-matrix-for-style-transferring\n",
            "https://www.javatpoint.com/pytorch-optimization-process-for-style-transferring\n",
            "https://www.javatpoint.com/python-pandas-add-column-to-dataframe-columns\n",
            "https://www.javatpoint.com/convert-pandas-dataframe-to-numpy-array\n",
            "https://www.javatpoint.com/how-to-remove-background-of-an-image-using-photoshop\n",
            "https://www.javatpoint.com/how-to-resize-an-image-in-photoshop\n",
            "https://www.javatpoint.com/bitwise-and-vs-logical-and-in-java\n",
            "https://www.javatpoint.com/how-to-unhide-columns-in-excel\n",
            "https://www.javatpoint.com/how-to-delete-blank-rows-in-excel\n",
            "https://www.javatpoint.com/how-to-add-watermark-in-excel\n",
            "https://www.javatpoint.com/how-to-remove-watermark-in-excel\n",
            "https://www.javatpoint.com/how-to-sort-table-data-in-html-using-javascript\n",
            "https://www.javatpoint.com/program-to-convert-feet-to-m\n",
            "https://www.javatpoint.com/program-to-convert-inches-to-meter\n",
            "https://www.javatpoint.com/program-to-convert-inches-to-mm\n",
            "https://www.javatpoint.com/program-to-convert-m-to-feet-and-inches\n",
            "https://www.javatpoint.com/convert-object-to-array-in-javascript\n",
            "https://www.javatpoint.com/how-to-check-security-add-ins-in-chrome\n",
            "https://www.javatpoint.com/full-binary-tree-vs-complete-binary-tree\n",
            "https://www.javatpoint.com/detect-cycle-in-a-directed-graph\n",
            "https://www.javatpoint.com/java-lang-outofmemoryerror-java-heap-space\n",
            "https://www.javatpoint.com/how-to-check-ram-in-linux\n",
            "https://www.javatpoint.com/10-digit-mobile-number-validation-in-angular\n",
            "https://www.javatpoint.com/how-to-change-font-style-in-android-phone\n",
            "https://www.javatpoint.com/using-uicolor-to-customize-app-appearance\n",
            "https://www.javatpoint.com/check-if-array-is-empty-in-blade-using-laravel\n",
            "https://www.javatpoint.com/delete-all-records-from-table-in-laravel-eloquent\n",
            "https://www.javatpoint.com/laravel-5-8-email-verification-example\n",
            "https://www.javatpoint.com/import-export-to-excel-and-csv-using-maatwebsite-in-laravel-5\n",
            "https://www.javatpoint.com/send-email-with-laravel-7-6-using-markdown-mailable-class\n",
            "https://www.javatpoint.com/check-if-the-value-exists-in-array-in-javascript\n",
            "https://www.javatpoint.com/escaping-and-non-escaping-closures-in-swift\n",
            "https://www.javatpoint.com/android-final-year-project-ideas-for-computer-science\n",
            "https://www.javatpoint.com/program-to-convert-centimeter-to-millimeter\n",
            "https://www.javatpoint.com/program-to-convert-centimeter-to-meter\n",
            "https://www.javatpoint.com/program-to-convert-feet-to-millimeter\n",
            "https://www.javatpoint.com/program-to-convert-meter-to-centimeter\n",
            "https://www.javatpoint.com/program-to-convert-millimeter-to-centimeter\n",
            "https://www.javatpoint.com/program-to-convert-millimeter-to-feet\n",
            "https://www.javatpoint.com/top-down-vs-bottom-up-integration-testing\n",
            "https://www.javatpoint.com/full-vs-incremental-vs-differential-back-up\n",
            "https://www.javatpoint.com/layer-effects-and-styles-in-photoshop\n",
            "https://www.javatpoint.com/elasticsearch-with-pagination-in-laravel-5\n",
            "https://www.javatpoint.com/laravel-yajra-datatables-export-to-excel-csv-button\n",
            "https://www.javatpoint.com/dynamically-add-remove-input-fields-using-jquery-ajax\n",
            "https://www.javatpoint.com/how-to-compare-two-columns-in-excel\n",
            "https://www.javatpoint.com/how-to-define-custom-rules-for-conditional-formatting-in-excel\n",
            "https://www.javatpoint.com/working-with-uibezierpath-in-ios-applications\n",
            "https://www.javatpoint.com/php-dropzone-file-upload-on-button-click\n",
            "https://www.javatpoint.com/php-find-value-in-an-array\n",
            "https://www.javatpoint.com/how-to-store-value-in-array\n",
            "https://www.javatpoint.com/how-to-open-tif-or-tiff-files-on-android\n",
            "https://www.javatpoint.com/how-to-download-and-install-ubuntu-16-04\n",
            "https://www.javatpoint.com/binary-to-decimal-number-in-c\n",
            "https://www.javatpoint.com/gcd-of-two-numbers-in-c\n",
            "https://www.javatpoint.com/single-core-processor-vs-dual-core-processor\n",
            "https://www.javatpoint.com/write-a-program-to-find-the-surface-area-of-the-pentagonal-prism\n",
            "https://www.javatpoint.com/write-a-program-to-find-the-area-of-the-rectangular-prism\n",
            "https://www.javatpoint.com/write-a-program-to-find-the-surface-area-of-a-triangular-prism\n",
            "https://www.javatpoint.com/write-a-program-to-find-the-area-of-hexagonal-prism\n",
            "https://www.javatpoint.com/write-a-program-to-find-the-volume-of-a-hexagonal-prism\n",
            "https://www.javatpoint.com/write-a-program-to-find-the-volume-of-the-rectangular-prism\n",
            "https://www.javatpoint.com/implement-two-stacks-in-an-array\n",
            "https://www.javatpoint.com/xylem-and-phloem-number-in-java\n",
            "https://www.javatpoint.com/use-elasticsearch-from-scratch-in-laravel-5\n",
            "https://www.javatpoint.com/how-to-allow-or-block-pop-ups-in-chrome-browser\n",
            "https://www.javatpoint.com/how-to-enable-cookies-on-android\n",
            "https://www.javatpoint.com/how-to-see-a-blocked-number-and-unblock-them-on-android\n",
            "https://www.javatpoint.com/how-to-track-iphone-from-an-android-phone\n",
            "https://www.javatpoint.com/what-is-my-phone-number-on-android\n",
            "https://www.javatpoint.com/add-edit-delete-table-row-in-jquery\n",
            "https://www.javatpoint.com/add-remove-input-fields-dynamically-using-jquery-with-bootstrap\n",
            "https://www.javatpoint.com/while-loop-vs-do-while-loop-in-c\n",
            "https://www.javatpoint.com/how-to-be-a-full-stack-developer\n",
            "https://www.javatpoint.com/how-to-reduce-excel-file-size\n",
            "https://www.javatpoint.com/how-to-save-excel-file-as-pdf\n",
            "https://www.javatpoint.com/how-to-lock-cells-in-excel\n",
            "https://www.javatpoint.com/how-to-unlock-cells-in-excel\n",
            "https://www.javatpoint.com/remove-loop-in-a-linked-list\n",
            "https://www.javatpoint.com/write-a-program-to-calculate-the-altitude-of-isosceles-triangle\n",
            "https://www.javatpoint.com/write-a-program-to-calculate-the-area-of-isosceles-triangle\n",
            "https://www.javatpoint.com/write-a-program-to-find-the-volume-of-tetrahedron\n",
            "https://www.javatpoint.com/write-a-program-to-find-the-area-of-icosahedron\n",
            "https://www.javatpoint.com/write-a-program-to-find-the-volume-of-octahedron\n",
            "https://www.javatpoint.com/write-a-program-to-find-the-area-of-tetrahedron\n",
            "https://www.javatpoint.com/lcm-of-two-numbers-in-c\n",
            "https://www.javatpoint.com/upload-multiple-file-and-image-in-codeigniter\n",
            "https://www.javatpoint.com/dynamically-add-and-remove-fields-in-angular\n",
            "https://www.javatpoint.com/dropzone-image-upload-in-angular-9-or-8\n",
            "https://www.javatpoint.com/angular-9-or-8-select-dropdown-example\n",
            "https://www.javatpoint.com/how-to-remove-background-from-image\n",
            "https://www.javatpoint.com/conversion-of-postfix-to-prefix-expression\n",
            "https://www.javatpoint.com/dynamic-drag-and-drop-table-rows-using-jquery-ajax\n",
            "https://www.javatpoint.com/dynamic-autocomplete-search-using-bootstrap-typeahead-js-example\n",
            "https://www.javatpoint.com/multiple-file-upload-using-dropzone-js-in-php\n",
            "https://www.javatpoint.com/parsing-a-static-json-file-in-ios-application\n",
            "https://www.javatpoint.com/using-avaudioplayer-to-play-sounds-in-ios-applications\n",
            "https://www.javatpoint.com/how-to-prepare-for-java-interview\n",
            "https://www.javatpoint.com/program-to-calculate-volume-of-cone\n",
            "https://www.javatpoint.com/write-a-program-to-calculate-the-perimeter-of-hexagon\n",
            "https://www.javatpoint.com/write-a-program-to-calculate-the-area-of-rhombus\n",
            "https://www.javatpoint.com/write-a-program-to-calculate-the-surface-area-of-cone\n",
            "https://www.javatpoint.com/write-a-program-to-calculate-the-surface-area-of-hemisphere\n",
            "https://www.javatpoint.com/write-a-program-to-find-the-perimeter-of-ellipse\n",
            "https://www.javatpoint.com/different-password-names-for-greater-protection\n",
            "https://www.javatpoint.com/remove-options-from-select-list-in-javascript\n",
            "https://www.javatpoint.com/face-recognition-and-face-detection-using-opencv\n"
          ],
          "name": "stdout"
        }
      ]
    },
    {
      "cell_type": "code",
      "metadata": {
        "id": "eiouo42IJWYs",
        "colab": {
          "base_uri": "https://localhost:8080/"
        },
        "outputId": "4a972095-1166-4913-f432-2fa3592251f4"
      },
      "source": [
        "import newspaper\n",
        "\n",
        "cnn_paper = newspaper.build(url)\n",
        "\n",
        "for article_old in cnn_paper.articles:\n",
        "  print(article_old.url)"
      ],
      "execution_count": 19,
      "outputs": [
        {
          "output_type": "stream",
          "text": [
            "https://www.javatpoint.com/check-if-the-array-is-empty-or-null-or-undefined-in-javascript\n"
          ],
          "name": "stdout"
        }
      ]
    }
  ]
}